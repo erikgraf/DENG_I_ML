{
 "cells": [
  {
   "cell_type": "markdown",
   "metadata": {},
   "source": [
    "# Debugging Prediction Success/Failure\n",
    "\n",
    "\n",
    "The focus of this notebook is to develop tooling that allows us to debug wrong predictions of the trained MNIST perceptron.\n",
    "\n",
    "\n",
    "There are multiple cells pre-configured to set up the exercises of this notebook:\n",
    "\n",
    "* Trainig Material will load MNIST and create a binary set for '4' and '5' handwritten digit classification\n",
    "* Perceptron is an implementation of Perceptron (slightly adapted to the exercises)\n",
    "* Visualizing the semantics of the dimensions already holds code for visualising the input sample and the weight vector\n",
    "* Accuracy on the Training Set allows you to calculate the Training Set Accuracy\n",
    "\n",
    "There are the following exercises:\n",
    "\n",
    "* Exercise 1: Identifying mis-classified samples: The first exercise is focused on collecting a set of missclassified samples for further analysis. Commonly when developing ML models, a first step after the establishment of the base line is to dig into the mis-classified material.\n",
    "* Exercise 2: Identifying the input that 'contributed' to the model's decision: Build tooling that allows us to visualize the involved features and their degree of contrution.\n",
    "* Exercise 3: Analyzing fixes: Based on the observations from Exercise 2, identify possible ways to fix some of the specific errors.\n",
    "\n",
    "\n",
    "\n"
   ]
  },
  {
   "cell_type": "markdown",
   "metadata": {},
   "source": [
    "# Training Material"
   ]
  },
  {
   "cell_type": "markdown",
   "metadata": {},
   "source": [
    "### MNIST Dataset\n",
    "\n",
    "In order to start testing our Perceptron implementation we will move to a different and more realistially sized MNIST dataset.\n",
    "\n",
    "We have already used the MNNIST dataset in the last semester when we started to familiarize us with the Machine Learning workflow.\n",
    "\n",
    "\"MNIST database of handwritten digits, available from this page, has a training set of 60,000 examples, and a test set of 10,000 examples. It is a subset of a larger set available from NIST. The digits have been size-normalized and centered in a fixed-size image.\" (source: http://yann.lecun.com/exdb/mnist/)\n",
    "\n",
    "To save you some time the following cell contains code to download and sort the dataset. "
   ]
  },
  {
   "cell_type": "code",
   "execution_count": 5,
   "metadata": {
    "pycharm": {
     "name": "#%%\n"
    }
   },
   "outputs": [
    {
     "name": "stdout",
     "output_type": "stream",
     "text": [
      "(70000,)\n",
      "(70000, 784)\n"
     ]
    },
    {
     "data": {
      "text/plain": [
       "10000"
      ]
     },
     "execution_count": 5,
     "metadata": {},
     "output_type": "execute_result"
    }
   ],
   "source": [
    "import numpy as np\n",
    "# Download and sort the dataset\n",
    "\n",
    "# Sorts the dataset by target (i.e the numbers 0-9). Sorts only the first 60000 entries (the training set).\n",
    "def sort_by_target(mnist):\n",
    "    reorder_train = np.array(sorted([(target, i) for i, target in enumerate(mnist.target[:60000])]))[:, 1]\n",
    "    reorder_test = np.array(sorted([(target, i) for i, target in enumerate(mnist.target[60000:])]))[:, 1]\n",
    "    mnist.data[:60000] = mnist.data[reorder_train]\n",
    "    mnist.target[:60000] = mnist.target[reorder_train]\n",
    "    mnist.data[60000:] = mnist.data[reorder_test + 60000]\n",
    "    mnist.target[60000:] = mnist.target[reorder_test + 60000]\n",
    "\n",
    "\n",
    "# Download and sort the dataset\n",
    "try:\n",
    "    from sklearn.datasets import fetch_openml\n",
    "    mnist = fetch_openml('mnist_784', version=1, cache=True)\n",
    "    mnist.target = mnist.target.astype(np.int8) # fetch_openml() returns targets as strings\n",
    "    sort_by_target(mnist) # fetch_openml() returns an unsorted dataset\n",
    "except ImportError:\n",
    "    from sklearn.datasets import fetch_mldata\n",
    "    mnist = fetch_mldata('MNIST original')\n",
    "mnist[\"data\"], mnist[\"target\"]\n",
    "\n",
    "\n",
    "print(mnist.target.shape)\n",
    "print(mnist.data.shape)\n",
    "\n",
    "from sklearn.utils import shuffle\n",
    "\n",
    "\n",
    "# Select 5000 values for 0 and 9 each by manually checking the boundaries or by checking for target value.\n",
    "mnist_4_target = mnist.target[25000:30000]\n",
    "mnist_4_data = mnist.data[25000:30000]\n",
    "mnist_5_target = mnist.target[31000:36000]\n",
    "mnist_5_data = mnist.data[31000:36000]\n",
    "mnist_bin_4_5_data = np.concatenate((mnist_4_data, mnist_5_data))\n",
    "mnist_bin_4_5_target = np.concatenate((mnist_4_target, mnist_5_target))\n",
    "mnist_bin_4_5_target = np.where(mnist_bin_4_5_target == 4, -1, 1)\n",
    "\n",
    "# Shuffle should be something that the students have to identify as an element that impacts the learning\n",
    "X, y = shuffle(mnist_bin_4_5_data, mnist_bin_4_5_target)\n",
    "len(mnist_bin_4_5_data)\n"
   ]
  },
  {
   "cell_type": "markdown",
   "metadata": {},
   "source": [
    "## 1. Perceptron class\n",
    "\n",
    "We will use the so called Perceptron class for the classification.\n",
    "The class is capable of doing binary classification and provides the following methods:\n",
    "\n",
    "* fit: train the Perceptron\n",
    "* net_input: calculate the net_input\n",
    "* predict: make a prediction based on a sample input\n"
   ]
  },
  {
   "cell_type": "code",
   "execution_count": 6,
   "metadata": {
    "pycharm": {
     "name": "#%%\n"
    }
   },
   "outputs": [],
   "source": [
    "import matplotlib.pyplot as plt\n",
    "import numpy as np\n",
    "import os\n",
    "\n",
    "\n",
    "import numpy.random\n",
    "from matplotlib._cm_listed import cmaps\n",
    "\n",
    "class Perceptron(object):\n",
    "    \n",
    "    \"\"\"Perceptron binary classifier.\n",
    "\n",
    "    Parameters\n",
    "    -----------\n",
    "    eta : float\n",
    "       Learning rate (value between 0.0 and 1.0)\n",
    "    epochs  : int\n",
    "       Number of passes over the training set\n",
    "\n",
    "    Attributes\n",
    "    -----------\n",
    "    w_  : 1d-array\n",
    "       Weights after fitting.\n",
    "    errors_   : list\n",
    "       Number of updates (triggered by prediction != target)\n",
    "\n",
    "    \"\"\"\n",
    "\n",
    "    def __init__(self, eta=0.01, epochs=10, random_state=1):\n",
    "        self.eta = eta\n",
    "        self.epochs = epochs\n",
    "        self.random_state = random_state\n",
    "        # this initialize the weights\n",
    "        rgen = numpy.random.RandomState(self.random_state)\n",
    "        self.w_ = rgen.uniform(low=0.0, high=0.01, size=1 + X.shape[1])   \n",
    "        \n",
    " \n",
    "\n",
    "    def fit(self, X, y, draw, heatmap):\n",
    "        \"\"\" Fit training data; i.e. train the Perceptron\n",
    "\n",
    "        Parameters\n",
    "        -----------\n",
    "        X : dataframe with shape - [n_samples, n_features]\n",
    "          feature vectors, where n_samples is the number of samples\n",
    "          in the data set, n_features is the number of features\n",
    "        y : dataframe with shape = [n_samples].\n",
    "            1 target value per sample (the label).\n",
    "\n",
    "        Returns\n",
    "        -----------\n",
    "        self : object\n",
    "\n",
    "        \"\"\"\n",
    "        \n",
    "\n",
    "        # this will be used to store the number of updates per epoch\n",
    "        self.errors_ = [None] * self.epochs\n",
    "        self.prec = [None] * self.epochs\n",
    "\n",
    "        for epoch in range(self.epochs):\n",
    "            errors = 0\n",
    "            for xi, target in zip(X, y):\n",
    "                error = target - self.predict(xi)\n",
    "                if (error != 0): \n",
    "                    update = self.eta * (error)\n",
    "                    self.w_[1:] += update * xi\n",
    "                    self.w_[0] += update\n",
    "                   # draw_weight_vector(xi, self.w_, True)\n",
    "                    errors += int(update != 0.0)\n",
    "            self.errors_[epoch] = errors\n",
    "            self.prec[epoch] = accuracy_on_train()\n",
    "        return self\n",
    "\n",
    "    def net_input(self, x):\n",
    "        \"\"\"Calculate net input\"\"\"\n",
    "        net_input = np.dot(x, self.w_[1:]) + self.w_[0]\n",
    "        return net_input\n",
    "\n",
    "    def predict(self, x):\n",
    "        \"\"\"Predict based on computing the net input and the threshold function\"\"\"\n",
    "        net_input = self.net_input(x)\n",
    "        if net_input >= 0.0:\n",
    "            prediction = 1\n",
    "        elif net_input < 0.0:\n",
    "            prediction = -1\n",
    "        return prediction"
   ]
  },
  {
   "cell_type": "markdown",
   "metadata": {},
   "source": [
    "# Visualizing the semantics of the dimensions.\n",
    "\n",
    "The next cell contains an implementation that allows us \n",
    "to visualize the dimensions of the weight vector learnt by the \n",
    "Perceptron based on projecting back into the 2D space. "
   ]
  },
  {
   "cell_type": "code",
   "execution_count": 7,
   "metadata": {
    "pycharm": {
     "is_executing": false,
     "name": "#%%\n"
    }
   },
   "outputs": [],
   "source": [
    "%matplotlib inline\n",
    "import numpy as np\n",
    "from IPython.display import clear_output\n",
    "from time import sleep\n",
    "import matplotlib as mpl\n",
    "import matplotlib.pyplot as plt\n",
    "import matplotlib.colors as col\n",
    "from matplotlib.colors import LinearSegmentedColormap\n",
    "from matplotlib import cm\n",
    "import matplotlib.pylab as pl\n",
    "import matplotlib.gridspec as gridspec\n",
    "\n",
    "mpl.rc('axes', labelsize=14)\n",
    "mpl.rc('xtick', labelsize=12)\n",
    "mpl.rc('ytick', labelsize=12)\n",
    "\n",
    "plt.rcParams[\"figure.figsize\"] = 10,8\n",
    "N=256\n",
    "zero_pt0 = 0.5\n",
    "zero_pt_rounded = np.ceil(zero_pt0*(N-1))/float(N-1)\n",
    "\n",
    "cmap_rdbu = plt.get_cmap(\"RdBu\")\n",
    "cmap_rdbu.set_bad(color='white')\n",
    "\n",
    "def draw_weight_vector(x, weight_vector, redraw):\n",
    "    transf_weight_vector = np.copy(weight_vector[1:])\n",
    "    transf_weight_vector = np.ma.masked_where(transf_weight_vector < 0.035, transf_weight_vector)\n",
    "    #transf_weight_vector[np.abs(transf_weight_vector) < 1] = 0.5\n",
    "    some_digit_image =  transf_weight_vector.reshape(28, 28)\n",
    "    input_sample = x.reshape(28,28)\n",
    "    \n",
    "    \n",
    "    gs = gridspec.GridSpec(3, 2)\n",
    "\n",
    "    fig = plt.figure()\n",
    "    ax1 = fig.add_subplot(gs[0, 0]) # row 0, col 0\n",
    "    ax1.axis(\"off\")\n",
    "    ax1.imshow(input_sample, cmap='gray', interpolation=\"nearest\")\n",
    "    \n",
    "    ax2 = fig.add_subplot(gs[0, 1]) # row 0, col 1\n",
    "    ax2.axis(\"off\")\n",
    "    ax2.imshow(some_digit_image, cmap_rdbu, interpolation=\"nearest\")\n",
    "\n",
    "    ax3 = fig.add_subplot(gs[1, :]) # row 1, span all columns\n",
    "    ax3.plot(range(1, ppn.epochs + 1), ppn.errors_, marker='o')\n",
    "    ax3.set_xlabel('Epochs')\n",
    "    ax3.set_ylabel('Number of updates')\n",
    "    \n",
    "    ax4 = fig.add_subplot(gs[2, :]) # row 1, span all columns\n",
    "    ax4.plot(range(1, ppn.epochs + 1), ppn.prec, marker='o')\n",
    "    ax4.set_xlabel('Epochs')\n",
    "    ax4.set_ylabel('Precision')\n",
    "    \n",
    "    plt.show()\n",
    "    sleep(0.01)\n",
    "    if redraw:\n",
    "        clear_output(wait=True)\n",
    "    mpl.pyplot.close()\n",
    "    \n",
    "    \n",
    "    \n",
    "def draw_sample(x):\n",
    "    \n",
    "    input_sample = x.reshape(28,28)\n",
    "    fig = plt.figure()\n",
    "    plt.axis(\"off\")\n",
    "    plt.imshow(input_sample, cmap='gray', interpolation=\"nearest\")\n",
    "    plt.show()\n",
    "    sleep(0.5)\n",
    "    clear_output(wait=True)\n",
    "    mpl.pyplot.close()\n",
    "\n",
    "\n",
    "def draw_weights(x):\n",
    "    transf_weight_vector = np.copy(x)\n",
    "    transf_weight_vector = np.ma.masked_where(abs(transf_weight_vector) < 0.035, transf_weight_vector)\n",
    "    some_digit_image =  transf_weight_vector.reshape(28, 28)\n",
    "    fig_weights = plt.figure()\n",
    "    plt.axis(\"off\")\n",
    "    plt.imshow(some_digit_image, cmap_rdbu, interpolation=\"nearest\")\n",
    "    plt.show()\n",
    "    sleep(4.5)\n",
    "    clear_output(wait=True)\n",
    "    mpl.pyplot.close()\n",
    "    \n",
    "    \n",
    "    \n",
    "    "
   ]
  },
  {
   "cell_type": "markdown",
   "metadata": {},
   "source": [
    "## Accuracy on the Training Set"
   ]
  },
  {
   "cell_type": "code",
   "execution_count": 9,
   "metadata": {
    "scrolled": true
   },
   "outputs": [
    {
     "name": "stdout",
     "output_type": "stream",
     "text": [
      "Accuracy score on training data: 0.9889\n"
     ]
    }
   ],
   "source": [
    "from sklearn.metrics import accuracy_score\n",
    "\n",
    "def accuracy_on_train():\n",
    "    y_pred = []\n",
    "    y_true = []\n",
    "\n",
    "    for i in range(0,10000):\n",
    "        y_pred.append(ppn.predict(X[i]))\n",
    "        y_true.append(y[i])\n",
    "\n",
    "    training_data_score = accuracy_score(y_true, y_pred)\n",
    "    return training_data_score\n",
    "\n",
    "\n",
    "print(f\"Accuracy score on training data: {accuracy_on_train()}\")"
   ]
  },
  {
   "cell_type": "code",
   "execution_count": 10,
   "metadata": {},
   "outputs": [
    {
     "name": "stdout",
     "output_type": "stream",
     "text": [
      "Accuracy score on test data: 0.9871931696905016\n"
     ]
    }
   ],
   "source": [
    "\n",
    "\n",
    "from sklearn.metrics import accuracy_score\n",
    "\n",
    "def accuracy_on_test():\n",
    "    y_pred = []\n",
    "    y_true = []\n",
    "\n",
    "    for i in range(64157,66031):\n",
    "        y_pred.append(ppn.predict(mnist.data[i]))\n",
    "        y_true.append(np.where(mnist.target[i]== 4, -1, 1))\n",
    "\n",
    "\n",
    "    training_data_score = accuracy_score(y_true, y_pred)\n",
    "    return training_data_score\n",
    "\n",
    "\n",
    "print(f\"Accuracy score on test data: {accuracy_on_test()}\")"
   ]
  },
  {
   "cell_type": "markdown",
   "metadata": {},
   "source": [
    "## Visualizing the Training Process\n",
    "\n",
    "Executing the cell below visualizes the training process."
   ]
  },
  {
   "cell_type": "code",
   "execution_count": 11,
   "metadata": {
    "pycharm": {
     "is_executing": false,
     "name": "#%%\n"
    }
   },
   "outputs": [
    {
     "name": "stdout",
     "output_type": "stream",
     "text": [
      "Training Finished\n"
     ]
    },
    {
     "data": {
      "image/png": "[encoded data removed]",
      "text/plain": [
       "<Figure size 720x576 with 4 Axes>"
      ]
     },
     "metadata": {
      "needs_background": "light"
     },
     "output_type": "display_data"
    }
   ],
   "source": [
    "ppn = Perceptron(eta=10, epochs=10)\n",
    "ppn.fit(X,y, True, False)\n",
    "\n",
    "print('Training Finished')\n",
    "draw_weight_vector(ppn.w_[1:], ppn.w_, False)\n"
   ]
  },
  {
   "cell_type": "markdown",
   "metadata": {},
   "source": [
    "## Exercise 1:  Identifying mis-classified samples\n",
    "\n",
    "The first exercise is focused on collecting a set of missclassified samples for further analysis. Commonly when developing ML models, a first step after the establishment of the base line is to dig into the mis-classified material.\n",
    "\n",
    "Extract the set of miss-classified samples from the test set and store them in a numpy array (e.g. X_fp, y_fp)\n"
   ]
  },
  {
   "cell_type": "code",
   "execution_count": 13,
   "metadata": {},
   "outputs": [
    {
     "name": "stdout",
     "output_type": "stream",
     "text": [
      "Predicted: 5 True: 4\n",
      "Predicted: 5 True: 4\n",
      "Predicted: 5 True: 4\n",
      "Predicted: 5 True: 4\n",
      "Predicted: 5 True: 4\n",
      "Predicted: 5 True: 4\n",
      "Predicted: 5 True: 4\n",
      "Predicted: 4 True: 5\n",
      "Predicted: 4 True: 5\n",
      "Predicted: 4 True: 5\n",
      "Predicted: 4 True: 5\n",
      "Predicted: 4 True: 5\n",
      "Predicted: 4 True: 5\n",
      "Predicted: 4 True: 5\n",
      "Predicted: 4 True: 5\n",
      "Predicted: 4 True: 5\n",
      "Predicted: 4 True: 5\n",
      "Predicted: 4 True: 5\n",
      "Predicted: 4 True: 5\n",
      "Predicted: 4 True: 5\n",
      "Predicted: 4 True: 5\n",
      "Predicted: 4 True: 5\n",
      "Predicted: 4 True: 5\n",
      "Predicted: 4 True: 5\n",
      "Predicted: 4 True: 5\n",
      "Predicted: 4 True: 5\n",
      "Predicted: 4 True: 5\n",
      "Predicted: 4 True: 5\n",
      "28\n"
     ]
    }
   ],
   "source": [
    "fp_samples = []\n",
    "for i in range(64157,66031):\n",
    "    true_value = mnist.target[i]\n",
    "    predicted_value = 4 if ppn.predict(mnist.data[i]) == -1 else 5\n",
    "    if (true_value != predicted_value):\n",
    "        fp_samples.append(i)\n",
    "        print(f\"Predicted: {predicted_value} True: {true_value}\")\n",
    "    \n",
    "print(len(fp_samples))"
   ]
  },
  {
   "cell_type": "code",
   "execution_count": 17,
   "metadata": {},
   "outputs": [
    {
     "name": "stdout",
     "output_type": "stream",
     "text": [
      "5\n"
     ]
    },
    {
     "data": {
      "image/png": "[encoded data removed]",
      "text/plain": [
       "<Figure size 432x288 with 1 Axes>"
      ]
     },
     "metadata": {
      "needs_background": "light"
     },
     "output_type": "display_data"
    }
   ],
   "source": [
    "%matplotlib inline\n",
    "\n",
    "\n",
    "for fp in fp_samples:\n",
    "    print(mnist.target[fp])\n",
    "    draw_sample(mnist.data[fp])\n"
   ]
  },
  {
   "cell_type": "markdown",
   "metadata": {},
   "source": [
    "## Exercise 2:  Identifying the input that 'contributed' to the model's decision\n",
    "\n",
    "Build tooling that allows us to visualize the involved features and their degree of contrution.\n",
    "Based on the building blocks we have for the visualization, lets construct a method that we can utilize to analyze the prediction of a single mis-classfied sample. \n",
    "\n",
    "The input of such a method consists of a sample that was mis-classified, the output should be something that allows us to better understand what went wrong.\n",
    "\n",
    "This can either be in numerical or visual form. \n",
    "\n"
   ]
  },
  {
   "cell_type": "code",
   "execution_count": 18,
   "metadata": {},
   "outputs": [],
   "source": [
    "import matplotlib.pyplot as plt\n",
    "import numpy as np; np.random.seed(1)\n",
    "plt.rcParams[\"figure.figsize\"] = 18,4\n",
    "\n",
    "def heatmap_weights(x, redraw=False):\n",
    "    x = np.array(range(0,len(x)))\n",
    "    y = x\n",
    "\n",
    "    fig, (ax,ax2) = plt.subplots(nrows=2, sharex=True)\n",
    "\n",
    "    ax.imshow(y[np.newaxis,:], cmap=\"RdBu\", aspect=\"auto\")\n",
    "    ax2.plot(x,y)\n",
    "\n",
    "    plt.tight_layout()\n",
    "    plt.show()\n",
    "    sleep(0.1)\n",
    "    if redraw:\n",
    "        clear_output(wait=True)\n",
    "    "
   ]
  },
  {
   "cell_type": "code",
   "execution_count": 20,
   "metadata": {},
   "outputs": [],
   "source": [
    "def calculate_activation(x):\n",
    "    activation = []\n",
    "\n",
    "    for t in zip(x, ppn.w_[1:]):\n",
    "        activation.append([t[0]*t[1]])\n",
    "    \n",
    "    return activation\n",
    "\n",
    "\n"
   ]
  },
  {
   "cell_type": "code",
   "execution_count": 22,
   "metadata": {},
   "outputs": [
    {
     "name": "stdout",
     "output_type": "stream",
     "text": [
      "True Value: 5\n"
     ]
    },
    {
     "data": {
      "image/png": "[encoded data removed]",
      "text/plain": [
       "<Figure size 432x288 with 1 Axes>"
      ]
     },
     "metadata": {
      "needs_background": "light"
     },
     "output_type": "display_data"
    }
   ],
   "source": [
    "%matplotlib inline\n",
    "\n",
    "for fp in fp_samples:\n",
    "    act = calculate_activation(mnist.data[fp])\n",
    "    print(f\"True Value: {mnist.target[fp]}\")\n",
    "    draw_weights(np.array(act))\n",
    "    \n",
    "\n",
    "    \n",
    "    "
   ]
  },
  {
   "cell_type": "markdown",
   "metadata": {},
   "source": [
    "## Exercise 3: Analyzing fixes\n",
    "\n",
    "Based on the observations from Exercise 2, identify possible ways to fix some of the specific errors.\n",
    "\n",
    "In a first step, discuss and analyse theoretical fixes. What steps could be applied in order to reduce the error rate. \n",
    "What can we change or manipulate in order to remove these mistakes.\n",
    "\n",
    "In a second step, test the effect of the fixes where possible.\n"
   ]
  },
  {
   "cell_type": "code",
   "execution_count": null,
   "metadata": {},
   "outputs": [],
   "source": []
  }
 ],
 "metadata": {
  "kernelspec": {
   "display_name": "PyCharm (Perceptron)",
   "language": "python",
   "name": "pycharm-d231b7f0"
  },
  "language_info": {
   "codemirror_mode": {
    "name": "ipython",
    "version": 3
   },
   "file_extension": ".py",
   "mimetype": "text/x-python",
   "name": "python",
   "nbconvert_exporter": "python",
   "pygments_lexer": "ipython3",
   "version": "3.6.8"
  },
  "pycharm": {
   "stem_cell": {
    "cell_type": "raw",
    "metadata": {
     "collapsed": false
    },
    "source": []
   }
  }
 },
 "nbformat": 4,
 "nbformat_minor": 1
}
