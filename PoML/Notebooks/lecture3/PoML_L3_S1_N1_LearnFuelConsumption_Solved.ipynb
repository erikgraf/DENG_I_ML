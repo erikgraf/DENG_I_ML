{
  "nbformat": 4,
  "nbformat_minor": 0,
  "metadata": {
    "colab": {
      "name": "PrincinplesOfLearning.ipynb",
      "provenance": [],
      "collapsed_sections": []
    },
    "kernelspec": {
      "name": "python3",
      "display_name": "Python 3"
    }
  },
  "cells": [
    {
      "cell_type": "markdown",
      "metadata": {
        "id": "WFHyREmwNsJd"
      },
      "source": [
        "# Sample Notebook for Running Code\n",
        "\n",
        "This is a sample notebook to demonstrate the use of \n",
        "jupyter notebooks.\n",
        "\n",
        "Jupyter notebooks consist of code cells and text cells. \n",
        "Code cells can be executed by hitting ´CTRL-SHIFT´ or ´CTRL-ENTER´.\n",
        "When you execute a code cell, the output of the last line of code will be printed below the cell.\n",
        "\n"
      ]
    },
    {
      "cell_type": "code",
      "metadata": {
        "id": "b9wg389dNha7",
        "colab": {
          "base_uri": "https://localhost:8080/"
        },
        "outputId": "d5f5a35b-6895-4b06-d07e-26603c92ae95"
      },
      "source": [
        "parameter_a = 1.2\n",
        "input = 8\n",
        "error = (10 - 9) \n",
        "update = error / input\n",
        "updated_a = parameter_a + update\n",
        "print(f\"Error was {error} and the next update is {update}\")"
      ],
      "execution_count": null,
      "outputs": [
        {
          "output_type": "stream",
          "text": [
            "Error was 1 and the next update is 0.125\n"
          ],
          "name": "stdout"
        }
      ]
    },
    {
      "cell_type": "code",
      "metadata": {
        "id": "lIVguvXDGxGD",
        "colab": {
          "base_uri": "https://localhost:8080/"
        },
        "outputId": "2e6220af-4fe8-4191-f44b-befccdfd1b9f"
      },
      "source": [
        "\n",
        "hyperparameter_learning_rate = 0.1\n",
        "\n",
        "# STEP 1 with 1st Sample\n",
        "parameter_a = 1\n",
        "input_x = 13593\n",
        "y = parameter_a * input_x\n",
        "error = (99641 - y)\n",
        "update_1 = error/input_x\n",
        "update_1_l = hyperparameter_learning_rate*(update_1)\n",
        "parameter_a = parameter_a + update_1\n",
        "\n",
        "# STEP 2 with 2nd Sample\n",
        "input_x = 5350\n",
        "y = parameter_a * input_x\n",
        "error = (44522-y)\n",
        "update_2 = error/input_x\n",
        "update_2_l = hyperparameter_learning_rate*(update_2)\n",
        "parameter_a = parameter_a + update_2\n",
        "\n",
        "\n",
        "# STEP 3 with 3rd Sample\n",
        "input_x = 8247\n",
        "y = parameter_a * input_x\n",
        "error = (65802-y)\n",
        "update_3 = error/input_x\n",
        "update_3_l = hyperparameter_learning_rate*(update_3)\n",
        "parameter_a = parameter_a + update_3\n",
        "\n",
        "\n",
        "print(f\"Updates without learning rate: {update_1, update_2, update_3}, updates with learning rate {update_1_l, update_2_l, update_3_l}\")"
      ],
      "execution_count": null,
      "outputs": [
        {
          "output_type": "stream",
          "text": [
            "Updates without learning rate: (6.3303170749650555, 0.9915520839134495, -0.34296774018079573), updates with learning rate (3.1651585374825277, 0.49577604195672476, -0.17148387009039787)\n"
          ],
          "name": "stdout"
        }
      ]
    }
  ]
}