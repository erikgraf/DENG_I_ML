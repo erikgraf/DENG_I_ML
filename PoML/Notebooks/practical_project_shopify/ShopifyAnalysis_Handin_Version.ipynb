{
  "nbformat": 4,
  "nbformat_minor": 0,
  "metadata": {
    "colab": {
      "name": "ShopifyAnalysis_Handin_Version.ipynb",
      "provenance": [],
      "collapsed_sections": [],
      "toc_visible": true
    },
    "kernelspec": {
      "name": "python394jvsc74a57bd0241df8b5450046cd999e0623081c9e9bc7d4287aaabd9b27f5eb2adf05534c4b",
      "display_name": "Python 3.9.4 64-bit"
    },
    "accelerator": "TPU",
    "metadata": {
      "interpreter": {
        "hash": "241df8b5450046cd999e0623081c9e9bc7d4287aaabd9b27f5eb2adf05534c4b"
      }
    }
  },
  "cells": [
    {
      "cell_type": "markdown",
      "metadata": {
        "id": "1Ul1hNt2bH-5"
      },
      "source": [
        "# Data Loading\n",
        "\n",
        "The first step consist of loading the dataset we downloaded from Kaggle. \n",
        "It is available on the teams channel for the practical work project and via the link in the next cell. \n",
        "\n",
        "The lines below import the pandas library with the alias `pd`, and loads the `CSV` file into a `dataframe`."
      ]
    },
    {
      "cell_type": "code",
      "execution_count": null,
      "metadata": {},
      "outputs": [],
      "source": [
        "!wget -O stores_data_UTF8.zip  https://drive.switch.ch/index.php/s/sfrwmwUmFAAfeCt/download"
      ]
    },
    {
      "cell_type": "code",
      "metadata": {
        "id": "YRVFtLLgZAGi"
      },
      "source": [
        "import pandas as pd\r\n",
        "df = pd.read_csv('drive/MyDrive/stores_data_UTF8.csv', lineterminator=\"\\n\")"
      ],
      "execution_count": 2,
      "outputs": []
    },
    {
      "source": [
        "# Data Exploration\n",
        "\n",
        "It is usually a good idea to explore the `dataframe` after loading in order to better understand the data, and to make sure the loading worked as expected."
      ],
      "cell_type": "code",
      "metadata": {
        "id": "MX4P65l-bXHT"
      },
      "execution_count": 1,
      "outputs": [
        {
          "output_type": "error",
          "ename": "SyntaxError",
          "evalue": "invalid syntax (<ipython-input-1-93590b0a615c>, line 3)",
          "traceback": [
            "\u001b[1;36m  File \u001b[1;32m\"<ipython-input-1-93590b0a615c>\"\u001b[1;36m, line \u001b[1;32m3\u001b[0m\n\u001b[1;33m    It is usually a good idea to explore the `dataframe` after loading in order to better understand the data, and to make sure the loading worked as expected.\u001b[0m\n\u001b[1;37m                  ^\u001b[0m\n\u001b[1;31mSyntaxError\u001b[0m\u001b[1;31m:\u001b[0m invalid syntax\n"
          ]
        }
      ]
    },
    {
      "cell_type": "code",
      "metadata": {
        "colab": {
          "base_uri": "https://localhost:8080/"
        },
        "id": "yMgUIkwfkzJW",
        "outputId": "19415457-9cdb-47d5-b8cb-442dd1b0f259"
      },
      "source": [
        "# This shows us the column labels in the dataframe.\r\n",
        "df.columns"
      ],
      "execution_count": 3,
      "outputs": [
        {
          "output_type": "execute_result",
          "data": {
            "text/plain": [
              "Index(['Unnamed: 0', 'store_title', 'store_description', 'store_collections',\n",
              "       'store_labels'],\n",
              "      dtype='object')"
            ]
          },
          "metadata": {
            "tags": []
          },
          "execution_count": 3
        }
      ]
    },
    {
      "cell_type": "code",
      "metadata": {
        "colab": {
          "base_uri": "https://localhost:8080/"
        },
        "id": "RVrYYOtPaWmB",
        "outputId": "b257c2c2-de69-4447-c491-055e082209b1"
      },
      "source": [
        "# The value counts function is a good way to get an overview of the values contained in a column by frequency (the most common and least common values are shown below).\r\n",
        "df['store_title'].value_counts()"
      ],
      "execution_count": 6,
      "outputs": [
        {
          "output_type": "execute_result",
          "data": {
            "text/plain": [
              "Home                                                                          816\n",
              "Create an Ecommerce Website and Sell Online! Ecommerce Software by Shopify    173\n",
              "Home Page                                                                     117\n",
              "Welcome                                                                       106\n",
              "403 Forbidden                                                                 105\n",
              "                                                                             ... \n",
              "Huellas Personalizadas para Mascotas - Tienda en Línea                          1\n",
              "Funny Maternity T Shirts Pregnancy Announcement Gifts Baby Bump Tees            1\n",
              "Jo Gordon | Modern Luxury Knitwear | Handcrafted in Scotland                    1\n",
              "Designer Soft Leather Gold Plated Dog Collars With Genuine Gemstones            1\n",
              "Size 9 Boutique                                                                 1\n",
              "Name: store_title, Length: 603975, dtype: int64"
            ]
          },
          "metadata": {
            "tags": []
          },
          "execution_count": 6
        }
      ]
    },
    {
      "cell_type": "code",
      "metadata": {
        "colab": {
          "base_uri": "https://localhost:8080/",
          "height": 175
        },
        "id": "YTexsJffnZ-z",
        "outputId": "e6b22a3d-c074-4ebb-8b2e-514578f6dba2"
      },
      "source": [
        "# The describe function prints tsome basic descriptive stats on the columns in the dataframe (e.g. number of values, number of unique values. )\r\n",
        "df.describe()"
      ],
      "execution_count": 7,
      "outputs": [
        {
          "output_type": "execute_result",
          "data": {
            "text/html": [
              "<div>\n",
              "<style scoped>\n",
              "    .dataframe tbody tr th:only-of-type {\n",
              "        vertical-align: middle;\n",
              "    }\n",
              "\n",
              "    .dataframe tbody tr th {\n",
              "        vertical-align: top;\n",
              "    }\n",
              "\n",
              "    .dataframe thead th {\n",
              "        text-align: right;\n",
              "    }\n",
              "</style>\n",
              "<table border=\"1\" class=\"dataframe\">\n",
              "  <thead>\n",
              "    <tr style=\"text-align: right;\">\n",
              "      <th></th>\n",
              "      <th>Unnamed: 0</th>\n",
              "      <th>store_title</th>\n",
              "      <th>store_description</th>\n",
              "      <th>store_collections</th>\n",
              "      <th>store_labels</th>\n",
              "    </tr>\n",
              "  </thead>\n",
              "  <tbody>\n",
              "    <tr>\n",
              "      <th>count</th>\n",
              "      <td>620863</td>\n",
              "      <td>618575</td>\n",
              "      <td>593365</td>\n",
              "      <td>539469</td>\n",
              "      <td>617969</td>\n",
              "    </tr>\n",
              "    <tr>\n",
              "      <th>unique</th>\n",
              "      <td>619971</td>\n",
              "      <td>603975</td>\n",
              "      <td>580417</td>\n",
              "      <td>506295</td>\n",
              "      <td>170216</td>\n",
              "    </tr>\n",
              "    <tr>\n",
              "      <th>top</th>\n",
              "      <td></td>\n",
              "      <td>Home</td>\n",
              "      <td>[]</td>\n",
              "      <td>frontpage</td>\n",
              "      <td>[]</td>\n",
              "    </tr>\n",
              "    <tr>\n",
              "      <th>freq</th>\n",
              "      <td>361</td>\n",
              "      <td>816</td>\n",
              "      <td>251</td>\n",
              "      <td>10530</td>\n",
              "      <td>195740</td>\n",
              "    </tr>\n",
              "  </tbody>\n",
              "</table>\n",
              "</div>"
            ],
            "text/plain": [
              "       Unnamed: 0 store_title store_description store_collections store_labels\n",
              "count      620863      618575            593365            539469       617969\n",
              "unique     619971      603975            580417            506295       170216\n",
              "top                      Home                []         frontpage           []\n",
              "freq          361         816               251             10530       195740"
            ]
          },
          "metadata": {
            "tags": []
          },
          "execution_count": 7
        }
      ]
    },
    {
      "cell_type": "code",
      "metadata": {
        "id": "9OKcsFVcdrCn"
      },
      "source": [
        "# The tail() function allows us to look at the last entries in the dataframe. The head() function shows us the top entries in the dataframe.\r\n",
        "df.tail()"
      ],
      "execution_count": null,
      "outputs": []
    },
    {
      "cell_type": "markdown",
      "metadata": {
        "id": "gr9P0f5Xd_yo"
      },
      "source": [
        "# Data Pre-Processing \r\n",
        "\r\n",
        "It is often necessary to do some form of pre-procesing of the data.\r\n",
        "\r\n",
        "This can become necesary in order to handle `null` values, deal with wrong data types, or make sure that data is encoded consistently in the same format. "
      ]
    },
    {
      "cell_type": "code",
      "metadata": {
        "colab": {
          "base_uri": "https://localhost:8080/"
        },
        "id": "NQS6VYqpfMgY",
        "outputId": "d666b879-dd22-4c26-f538-052e3ebd9bd3"
      },
      "source": [
        "print(f\"There are {df['store_title'].isnull().sum()} null values in the 'store_title' column and {df['store_description'].isnull().sum()} null values in the 'store_description' column\")"
      ],
      "execution_count": 9,
      "outputs": [
        {
          "output_type": "stream",
          "text": [
            "There are 2288 null values in the 'store_title' column and 27498 null values in the 'store_description' column\n"
          ],
          "name": "stdout"
        }
      ]
    },
    {
      "cell_type": "code",
      "metadata": {
        "id": "VurJlP-5n_bg"
      },
      "source": [
        "# This replaces the null values with an empty string.\r\n",
        "df['store_labels'].fillna(\"\", inplace=True)\r\n",
        "df['store_description'].fillna(\"\", inplace=True)"
      ],
      "execution_count": 10,
      "outputs": []
    },
    {
      "cell_type": "markdown",
      "metadata": {
        "id": "Zm7ErUWygYP4"
      },
      "source": [
        "# Label Creation\r\n",
        "\r\n",
        "The first step to build a classifier for our targeted categories consists of creating labels. \r\n",
        "\r\n",
        "In order to train our machine learning system that is expected to be able to classify shops based on their `store_description` or the content of the `store_collections` field, we need to label the rows in the dataframe.\r\n",
        "\r\n",
        "The cell below shows a simple approach to do this based on using the existing `store_labels`.\r\n",
        "* We define our set of `ml categories` and assign an integer to each of these categories\r\n",
        "* We collect keywords that we believe to match each of our target categories\r\n",
        "* If the `store_labels` of a shop contain one of these keywords we will assign the respective integer label of the category.\r\n",
        "* Finally, we assign a label representing all unmatched rows."
      ]
    },
    {
      "cell_type": "code",
      "metadata": {
        "colab": {
          "base_uri": "https://localhost:8080/",
          "height": 293
        },
        "id": "DLewCqeqk8MY",
        "outputId": "bb007796-8e8b-42ab-93f4-f00cf846360f"
      },
      "source": [
        "\r\n",
        "# In this example I assign the following ints to each category\r\n",
        "# jewelry = 1\r\n",
        "# phone_accessories = 2\r\n",
        "\r\n",
        "# I use the following (very limited) selection of keywords for the two categories\r\n",
        "phone_acc_labels = ['case', 'iphone', 'accessories', 'samsung', 'android']\r\n",
        "jewelry_labels = ['bracelet', 'necklace']\r\n",
        "\r\n",
        "# In order to match these categories I use the following code. If any of the \r\n",
        "# listed keywords is contained in the store_labels field it will be labeled with \r\n",
        "# the category in the new column ml_labels\r\n",
        "df.loc[df.store_labels.str.contains('|'.join(jewelry_labels), case = False, na = False), 'ml_labels'] = 1\r\n",
        "df.loc[df.store_labels.str.contains('|'.join(phone_acc_labels), case = False, na = False), 'ml_labels'] = 2\r\n",
        "\r\n",
        "\r\n",
        "# After having labeled all our matching rows we label all remaining rows with an\r\n",
        "# int representing all the other categories.\r\n",
        "df['ml_labels'] = df['ml_labels'].where((df['ml_labels'].isin([1,2])), other=100)\r\n",
        "\r\n",
        "# To have a quick check we can use the head() or tail() command and see if we\r\n",
        "# have matches.\r\n",
        "df.head()"
      ],
      "execution_count": 28,
      "outputs": [
        {
          "output_type": "execute_result",
          "data": {
            "text/html": [
              "<div>\n",
              "<style scoped>\n",
              "    .dataframe tbody tr th:only-of-type {\n",
              "        vertical-align: middle;\n",
              "    }\n",
              "\n",
              "    .dataframe tbody tr th {\n",
              "        vertical-align: top;\n",
              "    }\n",
              "\n",
              "    .dataframe thead th {\n",
              "        text-align: right;\n",
              "    }\n",
              "</style>\n",
              "<table border=\"1\" class=\"dataframe\">\n",
              "  <thead>\n",
              "    <tr style=\"text-align: right;\">\n",
              "      <th></th>\n",
              "      <th>Unnamed: 0</th>\n",
              "      <th>store_title</th>\n",
              "      <th>store_description</th>\n",
              "      <th>store_collections</th>\n",
              "      <th>store_labels</th>\n",
              "      <th>ml_labels</th>\n",
              "    </tr>\n",
              "  </thead>\n",
              "  <tbody>\n",
              "    <tr>\n",
              "      <th>0</th>\n",
              "      <td>0</td>\n",
              "      <td>Easestudio</td>\n",
              "      <td></td>\n",
              "      <td>festive 18, reverie festive 2019, spring summe...</td>\n",
              "      <td>[]</td>\n",
              "      <td>100.0</td>\n",
              "    </tr>\n",
              "    <tr>\n",
              "      <th>1</th>\n",
              "      <td>1</td>\n",
              "      <td>Mason - Super Thin iPhone Cases</td>\n",
              "      <td>The original super thin iPhone cases that perf...</td>\n",
              "      <td>iphone 11, iphone xs max, iphone x, iphone xr,...</td>\n",
              "      <td>['case', 'iphone', 'leather']</td>\n",
              "      <td>2.0</td>\n",
              "    </tr>\n",
              "    <tr>\n",
              "      <th>2</th>\n",
              "      <td>2</td>\n",
              "      <td>Chictypeaccessoires | accessoires mode homme b...</td>\n",
              "      <td>La boutique Chic Type est votre boutique d'acc...</td>\n",
              "      <td>noeud papillon, ceinture, les accessoires util...</td>\n",
              "      <td>['bracelet', 'boutique']</td>\n",
              "      <td>1.0</td>\n",
              "    </tr>\n",
              "    <tr>\n",
              "      <th>3</th>\n",
              "      <td>3</td>\n",
              "      <td>Le Corps Fitness</td>\n",
              "      <td>Le Corps Fitness</td>\n",
              "      <td>trainers, short sets, yoga sets, reine, one pi...</td>\n",
              "      <td>['fitness']</td>\n",
              "      <td>100.0</td>\n",
              "    </tr>\n",
              "    <tr>\n",
              "      <th>4</th>\n",
              "      <td>4</td>\n",
              "      <td>Womens fashions</td>\n",
              "      <td>Charming Lilly</td>\n",
              "      <td>charming glambam, charming accessories, swim c...</td>\n",
              "      <td>[]</td>\n",
              "      <td>100.0</td>\n",
              "    </tr>\n",
              "  </tbody>\n",
              "</table>\n",
              "</div>"
            ],
            "text/plain": [
              "  Unnamed: 0  ... ml_labels\n",
              "0          0  ...     100.0\n",
              "1          1  ...       2.0\n",
              "2          2  ...       1.0\n",
              "3          3  ...     100.0\n",
              "4          4  ...     100.0\n",
              "\n",
              "[5 rows x 6 columns]"
            ]
          },
          "metadata": {
            "tags": []
          },
          "execution_count": 28
        }
      ]
    },
    {
      "cell_type": "code",
      "metadata": {
        "colab": {
          "base_uri": "https://localhost:8080/"
        },
        "id": "nmjUxh_j3sjl",
        "outputId": "ab23438a-02a5-4ea4-bbdf-ffaa129afb98"
      },
      "source": [
        "# To see overall results of your labeling efforts, you can use the value_counts() function again.\r\n",
        "df['ml_labels'].value_counts()"
      ],
      "execution_count": 27,
      "outputs": [
        {
          "output_type": "execute_result",
          "data": {
            "text/plain": [
              "10.0    604662\n",
              "1.0       9040\n",
              "2.0       7161\n",
              "Name: ml_labels, dtype: int64"
            ]
          },
          "metadata": {
            "tags": []
          },
          "execution_count": 27
        }
      ]
    },
    {
      "cell_type": "code",
      "metadata": {
        "id": "FJ14KE96FG98",
        "colab": {
          "base_uri": "https://localhost:8080/",
          "height": 614
        },
        "outputId": "2cb5cf52-c355-43a1-9f09-6b2f2cb1c4dd"
      },
      "source": [
        "# If you want to look at the individual values for a label you can use the command below.\r\n",
        "df.loc[df['ml_labels'] == 2.0]"
      ],
      "execution_count": 14,
      "outputs": [
        {
          "output_type": "execute_result",
          "data": {
            "text/html": [
              "<div>\n",
              "<style scoped>\n",
              "    .dataframe tbody tr th:only-of-type {\n",
              "        vertical-align: middle;\n",
              "    }\n",
              "\n",
              "    .dataframe tbody tr th {\n",
              "        vertical-align: top;\n",
              "    }\n",
              "\n",
              "    .dataframe thead th {\n",
              "        text-align: right;\n",
              "    }\n",
              "</style>\n",
              "<table border=\"1\" class=\"dataframe\">\n",
              "  <thead>\n",
              "    <tr style=\"text-align: right;\">\n",
              "      <th></th>\n",
              "      <th>Unnamed: 0</th>\n",
              "      <th>store_title</th>\n",
              "      <th>store_description</th>\n",
              "      <th>store_collections</th>\n",
              "      <th>store_labels</th>\n",
              "      <th>ml_labels</th>\n",
              "    </tr>\n",
              "  </thead>\n",
              "  <tbody>\n",
              "    <tr>\n",
              "      <th>1</th>\n",
              "      <td>1</td>\n",
              "      <td>Mason - Super Thin iPhone Cases</td>\n",
              "      <td>The original super thin iPhone cases that perf...</td>\n",
              "      <td>iphone 11, iphone xs max, iphone x, iphone xr,...</td>\n",
              "      <td>['case', 'iphone', 'leather']</td>\n",
              "      <td>2.0</td>\n",
              "    </tr>\n",
              "    <tr>\n",
              "      <th>236</th>\n",
              "      <td>236</td>\n",
              "      <td>100% Organic Cotton Luxury Bedding and Bed Lin...</td>\n",
              "      <td>Strawberry &amp; Cream is a new luxury bedding bra...</td>\n",
              "      <td>super king pillow cases, super king fitted she...</td>\n",
              "      <td>['duvet', 'sheet', 'bed', 'pillow', 'organic',...</td>\n",
              "      <td>2.0</td>\n",
              "    </tr>\n",
              "    <tr>\n",
              "      <th>445</th>\n",
              "      <td>442</td>\n",
              "      <td>ICE Computer Cafe &amp; Repair Center  | Computer ...</td>\n",
              "      <td>Computer Repair | iPhone Repair | iPad Repair ...</td>\n",
              "      <td>apple watch repair, samsung galaxy s8 repair, ...</td>\n",
              "      <td>['samsung', 'iphone']</td>\n",
              "      <td>2.0</td>\n",
              "    </tr>\n",
              "    <tr>\n",
              "      <th>487</th>\n",
              "      <td>484</td>\n",
              "      <td>ALASKA TECHNOLOGY FOR ALL</td>\n",
              "      <td>MOBILE PHONES, MOBILE PARTS, CELLPHONES, IPHON...</td>\n",
              "      <td>home health, xiaomi, smartwatches, iphones, ip...</td>\n",
              "      <td>['iphone']</td>\n",
              "      <td>2.0</td>\n",
              "    </tr>\n",
              "    <tr>\n",
              "      <th>507</th>\n",
              "      <td>504</td>\n",
              "      <td>Handmade Designer Lighter Sleeves &amp; Lighter Cases</td>\n",
              "      <td>Custom lighter sleeves &amp; lighter cases made fr...</td>\n",
              "      <td>hfl lighter sleeves, louis vuitton gucci goyar...</td>\n",
              "      <td>['case', 'sleeve']</td>\n",
              "      <td>2.0</td>\n",
              "    </tr>\n",
              "    <tr>\n",
              "      <th>...</th>\n",
              "      <td>...</td>\n",
              "      <td>...</td>\n",
              "      <td>...</td>\n",
              "      <td>...</td>\n",
              "      <td>...</td>\n",
              "      <td>...</td>\n",
              "    </tr>\n",
              "    <tr>\n",
              "      <th>620208</th>\n",
              "      <td>618113</td>\n",
              "      <td>Smartphone Mounting For An Active Lifestyle™</td>\n",
              "      <td>Quad Lock® is an Australian business producing...</td>\n",
              "      <td>iphone 11 pro, iphone 11, shop samsung, iphone...</td>\n",
              "      <td>['iphone']</td>\n",
              "      <td>2.0</td>\n",
              "    </tr>\n",
              "    <tr>\n",
              "      <th>620257</th>\n",
              "      <td>618162</td>\n",
              "      <td>Olde Time Mac</td>\n",
              "      <td>Canada’s best source for Certified Pre-Owned A...</td>\n",
              "      <td>ipad pro 12 9, macbook pro 13 retina, iphone x...</td>\n",
              "      <td>['iphone', 'macbook']</td>\n",
              "      <td>2.0</td>\n",
              "    </tr>\n",
              "    <tr>\n",
              "      <th>620285</th>\n",
              "      <td>618190</td>\n",
              "      <td>Yangtze Store</td>\n",
              "      <td>Online store for scarves, silk pillowcases, si...</td>\n",
              "      <td>long oblong silk scarves, pearl earrings, wool...</td>\n",
              "      <td>['sleep', 'silk', 'wrap', 'pillowcase', 'pearl']</td>\n",
              "      <td>2.0</td>\n",
              "    </tr>\n",
              "    <tr>\n",
              "      <th>620361</th>\n",
              "      <td>618266</td>\n",
              "      <td>Brakitty Premium Hardshell Womens Travel Essen...</td>\n",
              "      <td>Brakitty case organizes &amp; protects your linger...</td>\n",
              "      <td>brakitty classic, bra case travel accessory su...</td>\n",
              "      <td>['bra', 'travel', 'case', 'bikini']</td>\n",
              "      <td>2.0</td>\n",
              "    </tr>\n",
              "    <tr>\n",
              "      <th>620589</th>\n",
              "      <td>618494</td>\n",
              "      <td>The Screen Team | The Screen Team UK | Replace...</td>\n",
              "      <td>Replacement glass screens and digitizers for A...</td>\n",
              "      <td>huawei glass, google nexus glass, nokia glass,...</td>\n",
              "      <td>['apple', 'team', 'glass', 'samsung', 'phone']</td>\n",
              "      <td>2.0</td>\n",
              "    </tr>\n",
              "  </tbody>\n",
              "</table>\n",
              "<p>7161 rows × 6 columns</p>\n",
              "</div>"
            ],
            "text/plain": [
              "       Unnamed: 0  ... ml_labels\n",
              "1               1  ...       2.0\n",
              "236           236  ...       2.0\n",
              "445           442  ...       2.0\n",
              "487           484  ...       2.0\n",
              "507           504  ...       2.0\n",
              "...           ...  ...       ...\n",
              "620208     618113  ...       2.0\n",
              "620257     618162  ...       2.0\n",
              "620285     618190  ...       2.0\n",
              "620361     618266  ...       2.0\n",
              "620589     618494  ...       2.0\n",
              "\n",
              "[7161 rows x 6 columns]"
            ]
          },
          "metadata": {
            "tags": []
          },
          "execution_count": 14
        }
      ]
    },
    {
      "cell_type": "code",
      "metadata": {
        "id": "pk86x4gokz4Z"
      },
      "source": [
        "# If you want to see the full output you can write it out to a file.\r\n",
        "# This will write to the temporary file space of a Google collab notebook if you run the notebook there.\r\n",
        "df.loc[df['ml_labels'] == 1.0].to_csv(r'matched_label_1.txt', header=None, index=None, sep=',')"
      ],
      "execution_count": 25,
      "outputs": []
    },
    {
      "cell_type": "markdown",
      "metadata": {
        "id": "dBkb_u3CrL8v"
      },
      "source": [
        "# Creating the Training Data Set\r\n",
        "\r\n",
        "Now that we have labelled data, it is time to create the training set. \r\n",
        "In order to train our classifier we need the set of:\r\n",
        "* Samples `X` and\r\n",
        "* the set of labels for these samples `y`\r\n",
        "\r\n",
        "Both `X` and `y` have to be encoded in numerical form. \r\n",
        "In order to transform the text of the descriptions we make use of the `CountVectorizer`.\r\n",
        "\r\n",
        "For the vector holding the labels we just have to ensure it is an `int`.\r\n"
      ]
    },
    {
      "cell_type": "code",
      "metadata": {
        "colab": {
          "base_uri": "https://localhost:8080/"
        },
        "id": "cS0OwLcWajhA",
        "outputId": "a7a5ba07-3393-49a8-db0e-5c526f4a4eae"
      },
      "source": [
        "import numpy as np\r\n",
        "from sklearn.feature_extraction.text import CountVectorizer\r\n",
        "count_vect = CountVectorizer()\r\n",
        "\r\n",
        "X = count_vect.fit_transform(df['store_description'].apply(lambda x: np.str_(x)))\r\n",
        "y = df['ml_labels'].astype(int)\r\n",
        "X.shape\r\n",
        "y.shape\r\n"
      ],
      "execution_count": 37,
      "outputs": [
        {
          "output_type": "execute_result",
          "data": {
            "text/plain": [
              "(620863,)"
            ]
          },
          "metadata": {
            "tags": []
          },
          "execution_count": 37
        }
      ]
    },
    {
      "cell_type": "code",
      "metadata": {
        "colab": {
          "base_uri": "https://localhost:8080/"
        },
        "id": "nV90oG7oGnlB",
        "outputId": "2bd24e75-136a-461f-cd29-3e4543586539"
      },
      "source": [
        "# This shows you how the samples have been transformed from text into a numerical \r\n",
        "# represenation. If you want to see the full output you have to write it to a file.\r\n",
        "X[1:10].todense()"
      ],
      "execution_count": 33,
      "outputs": [
        {
          "output_type": "execute_result",
          "data": {
            "text/plain": [
              "matrix([[0, 0, 0, ..., 0, 0, 0],\n",
              "        [0, 0, 0, ..., 0, 0, 0],\n",
              "        [0, 0, 0, ..., 0, 0, 0],\n",
              "        ...,\n",
              "        [0, 0, 0, ..., 0, 0, 0],\n",
              "        [0, 0, 0, ..., 0, 0, 0],\n",
              "        [0, 0, 0, ..., 0, 0, 0]])"
            ]
          },
          "metadata": {
            "tags": []
          },
          "execution_count": 33
        }
      ]
    },
    {
      "cell_type": "markdown",
      "metadata": {
        "id": "BZ7psG2esbb7"
      },
      "source": [
        "# Training and Scoring the Classifier Model\r\n",
        "\r\n",
        "After the all the hard work we have done above, the actual training and scoring of the classifier is very simple. \r\n",
        "\r\n",
        "As shown below, all we have to do is to call the `fit()` method with the input of the samples `X` and their labels `y`. \r\n",
        "\r\n",
        "Afterwards we measure by calling the `score()` method. \r\n"
      ]
    },
    {
      "cell_type": "code",
      "metadata": {
        "id": "U_4zP1lrbheU",
        "colab": {
          "base_uri": "https://localhost:8080/"
        },
        "outputId": "a163f118-6753-4d6a-8c6c-dfa9013181fb"
      },
      "source": [
        "from sklearn.naive_bayes import MultinomialNB\r\n",
        "clf = MultinomialNB().fit(x_train, y_train)\r\n",
        "clf.score(x_test, y_test)"
      ],
      "execution_count": 54,
      "outputs": [
        {
          "output_type": "execute_result",
          "data": {
            "text/plain": [
              "0.9452495974235104"
            ]
          },
          "metadata": {
            "tags": []
          },
          "execution_count": 54
        }
      ]
    },
    {
      "cell_type": "markdown",
      "metadata": {
        "id": "xdydiEJ9s4gY"
      },
      "source": [
        "# Practical Part Deliverables\r\n",
        "\r\n",
        "As part of the grading for Principles of  Machine Learning each group has to complete the following steps:\r\n",
        "\r\n",
        "### 1. Create a labelled dataset\r\n",
        "\r\n",
        "Following the schema shown above, map your chosen categories to keywords and create labels in an ml_labels column.\r\n",
        "\r\n",
        "After you have finished this process export your resulting dataframe as a `csv` file (example code for this is contained in this notebook). \r\n",
        "\r\n",
        "### 2. Train a classifier\r\n",
        "\r\n",
        "If you want you can use the same sample code contained in this notebook to train your first classifier based on your labelling. You can also look at the sci-kit learn documentation and try your hand at other classifiers (this is not required from a grading perspective).\r\n",
        "\r\n",
        "### 3. Measure correctly\r\n",
        "\r\n",
        "In the above example code we train and measure on the same data. \r\n",
        "As we have discussed in class this is not a good practice.\r\n",
        "Add a cell that makes use of the `from sklearn.model_selection import train_test_split` method to create a X_train, y_train, X_test, y_test portion and train and measure with those.\r\n",
        "\r\n",
        "### 4. Interprete the process and your results\r\n",
        "\r\n",
        "Provide a short (not more than 10 sentences) written interpretation of the observed result and the process that we have used to create our classifier. \r\n",
        "\r\n",
        "Do you see any potential problems in the semi_supervised keyword labeling shortcut we have used?\r\n",
        "\r\n",
        "How would you interpret the observed results? Could the classifier be used for the discussed purpose of doing some preliminary competitive analysis (e.g. what is my competition in this area, how many shops exist that serve the products I target)\r\n",
        "\r\n",
        "Write your input into the next text cell. \r\n",
        "\r\n",
        "# Hand-in Procedure\r\n",
        "\r\n",
        "The hand-in for each group consists of the CSV file containing your labelled version of the dataframe, and your version of this notebook.\r\n",
        "\r\n",
        "Place the notebook file and the CSV file in a Zip file and upload it to the teams channel for Part II of the practical project. \r\n",
        "\r\n",
        "The name of the zip file should contain the last names of the group members. \r\n",
        "\r\n"
      ]
    },
    {
      "cell_type": "markdown",
      "metadata": {
        "id": "HZ14qwzEw0S6"
      },
      "source": [
        "# Interpretation of the process and our results\r\n",
        "\r\n",
        "Write your input here."
      ]
    },
    {
      "cell_type": "code",
      "metadata": {
        "id": "UxfAQGPuw9nc"
      },
      "source": [],
      "execution_count": null,
      "outputs": []
    }
  ]
}