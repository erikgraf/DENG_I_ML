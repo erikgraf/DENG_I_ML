{
 "cells": [
  {
   "cell_type": "markdown",
   "metadata": {},
   "source": [
    "# Analysis Shopify\n",
    "\n"
   ]
  },
  {
   "cell_type": "code",
   "execution_count": 1,
   "metadata": {},
   "outputs": [],
   "source": [
    "import pandas as pd\n",
    "shopify_df = pd.read_csv(r'Top10k_Shopify.csv');"
   ]
  },
  {
   "cell_type": "code",
   "execution_count": 5,
   "metadata": {},
   "outputs": [],
   "source": [
    "# Keep only the rows where site description is not null\n",
    "shopify_desc_df = shopify_df[shopify_df['Site Description'].notnull()]"
   ]
  },
  {
   "cell_type": "markdown",
   "metadata": {},
   "source": [
    "## Exercise: NE Extraction on Shopify Descriptions"
   ]
  },
  {
   "cell_type": "code",
   "execution_count": 9,
   "metadata": {},
   "outputs": [],
   "source": [
    "# Extract Named Entities with spacy\n",
    "import spacy\n",
    "nlp = spacy.load(\"en_core_web_sm\")\n"
   ]
  },
  {
   "cell_type": "markdown",
   "metadata": {},
   "source": [
    "## Exercise: Observations\n",
    "\n",
    "What are your observations in terms of perceived:\n",
    "\n",
    "### Performance\n",
    "\n",
    "...\n",
    "\n",
    "### Model Behavior\n",
    "\n",
    "... \n",
    "\n",
    "What do you assume to be the root cause of these observations?\n",
    "\n",
    "### Potential Cause I\n",
    "...\n",
    "\n",
    "### Potential Cause II\n",
    "...\n"
   ]
  },
  {
   "cell_type": "markdown",
   "metadata": {},
   "source": [
    "## Exercise: Keyphrase Extraction on Shopify Descriptions\n",
    "\n"
   ]
  },
  {
   "cell_type": "code",
   "execution_count": 8,
   "metadata": {},
   "outputs": [
    {
     "data": {
      "text/plain": [
       "<pytextrank.base.BaseTextRankFactory at 0x7f3cf0f74c70>"
      ]
     },
     "execution_count": 8,
     "metadata": {},
     "output_type": "execute_result"
    }
   ],
   "source": [
    "import spacy\n",
    "import pytextrank\n",
    "\n",
    "nlp = spacy.load('en_core_web_sm')\n",
    "nlp.add_pipe(\"textrank\")"
   ]
  },
  {
   "cell_type": "markdown",
   "metadata": {},
   "source": [
    "## Exercise: Observations\n",
    "\n",
    "What are your observations in terms of perceived:\n",
    "\n",
    "### Performance\n",
    "\n",
    "...\n",
    "\n",
    "### Model Behavior\n",
    "\n",
    "... \n",
    "\n",
    "What do you assume to be the root cause of these observations?\n",
    "\n",
    "### Potential Cause I\n",
    "...\n",
    "\n",
    "### Potential Cause II\n",
    "...\n"
   ]
  },
  {
   "cell_type": "code",
   "execution_count": null,
   "metadata": {},
   "outputs": [],
   "source": []
  }
 ],
 "metadata": {
  "kernelspec": {
   "display_name": "Python 3",
   "language": "python",
   "name": "python3"
  },
  "language_info": {
   "codemirror_mode": {
    "name": "ipython",
    "version": 3
   },
   "file_extension": ".py",
   "mimetype": "text/x-python",
   "name": "python",
   "nbconvert_exporter": "python",
   "pygments_lexer": "ipython3",
   "version": "3.8.2"
  }
 },
 "nbformat": 4,
 "nbformat_minor": 4
}
