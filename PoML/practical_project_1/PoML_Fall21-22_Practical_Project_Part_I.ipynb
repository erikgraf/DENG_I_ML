{
 "cells": [
  {
   "cell_type": "markdown",
   "metadata": {},
   "source": [
    "#  Practical Project Part I\n",
    "\n",
    "This project focuses on applying Machine Learning on real-world datasets.\n",
    "The work in this project aims to provide you with the experience of working with real-world data, and state of the art machine learning algorithms. \n",
    "\n",
    "In the course we have talked about the process steps of machine learning, and the difficulties of evaluation and achieving acceptable real-world performance.\n",
    "\n",
    "The notebooks for the practical project provide you with some exercises and some questions at the end.\n",
    "The filled out notebooks will be your deliverables for the practical part. \n",
    "You can work together in groups of up to 3-4 students and submit a notebook together. \n",
    "\n",
    "When submitting please stick to the naming convention of using the name of the notebook followed by your short student IDs.\n",
    "\n",
    "E.g. `PoML_Fall21-22_Practical_Project_Part_I_KIM3_GRE3_VGJ1.ipynb` would be the format."
   ]
  },
  {
   "cell_type": "markdown",
   "metadata": {},
   "source": [
    "# Datasets\n",
    "\n",
    "## Dice.com Dataset\n",
    "\n",
    "The dice dataset contains 20k+ job advertisements scraped from `dice.com`, a popular tech-focused job portal in the US.\n",
    "\n",
    "You will find it as a `zip` on the course moodle page.\n",
    "More information is available at https://datastock.shop/download-dice-job-listings-dataset/.\n",
    "\n",
    "## Shopify Top 10K Dataset\n",
    "\n",
    "The shopify.com top 10k store dataset contains data collected from the 10k most trafficed e-commerce stores based on the shopify.com platform. \n",
    "\n",
    "You will find it as a `zip` on the course moodle page.\n",
    "More information is available at https://thibpat.gumroad.com/l/top-shopify-stores."
   ]
  },
  {
   "cell_type": "markdown",
   "metadata": {},
   "source": [
    "# Exercise 1: Data Curation & Pre-Processing\n",
    "\n",
    "The datasets are typical examples for real-world data. \n",
    "\n",
    "A first step when starting to dive into a machine learning project consists of making yourself familiar with the data. \n",
    "Initially this consists of manually analysing the different fields and getting an idea of the content and quality of the data.\n",
    "\n",
    "Download the two datasets from moodle and start to have a look at the data and the linked additional information. "
   ]
  },
  {
   "cell_type": "markdown",
   "metadata": {},
   "source": [
    "# Exercise 2: Load the Data\n",
    "\n",
    "Load the data into two `pandas` dataframes (go back to the notebooks we have used so far if you want examples).\n",
    "Make sure the data loads as expected."
   ]
  },
  {
   "cell_type": "markdown",
   "metadata": {},
   "source": [
    "### Shopify"
   ]
  },
  {
   "cell_type": "code",
   "execution_count": null,
   "metadata": {},
   "outputs": [],
   "source": [
    "import pandas as pd\n",
    "\n",
    "# Load the Dice dataset\n",
    "\n",
    "shopify_df = pd.read_csv(r'Top10k_Shopify.csv');"
   ]
  },
  {
   "cell_type": "code",
   "execution_count": null,
   "metadata": {
    "scrolled": false
   },
   "outputs": [],
   "source": [
    "# Examine the loaded dataframe\n",
    "# What are points that you would consider challenging in terms of applying machine learning?\n",
    "pd.reset_option('display.max_rows', 50)\n",
    "with pd.option_context('display.max_colwidth', None):\n",
    "    display(shopify_df)"
   ]
  },
  {
   "cell_type": "code",
   "execution_count": null,
   "metadata": {},
   "outputs": [],
   "source": [
    "shopify_df.sort_values('Alexa Rank')"
   ]
  },
  {
   "cell_type": "code",
   "execution_count": null,
   "metadata": {},
   "outputs": [],
   "source": [
    "# Some stats\n",
    "shopify_df.describe()\n"
   ]
  },
  {
   "cell_type": "code",
   "execution_count": null,
   "metadata": {},
   "outputs": [],
   "source": [
    "shopify_df.info()"
   ]
  },
  {
   "cell_type": "markdown",
   "metadata": {},
   "source": [
    "## Examine the loaded dataframe\n",
    "### What are points that you would consider challenging in terms of applying machine learning?\n"
   ]
  },
  {
   "cell_type": "markdown",
   "metadata": {},
   "source": [
    "### Problematic\n",
    "\n",
    "* Missing values\n",
    "* Dirty data "
   ]
  },
  {
   "cell_type": "code",
   "execution_count": null,
   "metadata": {},
   "outputs": [],
   "source": [
    "dice_df = pd.read_csv('dice_com-job_us_sample.csv')"
   ]
  },
  {
   "cell_type": "code",
   "execution_count": null,
   "metadata": {},
   "outputs": [],
   "source": [
    "dice_df.head()"
   ]
  },
  {
   "cell_type": "code",
   "execution_count": null,
   "metadata": {},
   "outputs": [],
   "source": [
    "with pd.option_context('display.max_colwidth', None):\n",
    "    display(dice_df['jobdescription'])"
   ]
  },
  {
   "cell_type": "code",
   "execution_count": null,
   "metadata": {},
   "outputs": [],
   "source": [
    "dice_df.info()"
   ]
  },
  {
   "cell_type": "code",
   "execution_count": null,
   "metadata": {},
   "outputs": [],
   "source": []
  }
 ],
 "metadata": {
  "kernelspec": {
   "display_name": "Python 3",
   "language": "python",
   "name": "python3"
  },
  "language_info": {
   "codemirror_mode": {
    "name": "ipython",
    "version": 3
   },
   "file_extension": ".py",
   "mimetype": "text/x-python",
   "name": "python",
   "nbconvert_exporter": "python",
   "pygments_lexer": "ipython3",
   "version": "3.8.2"
  }
 },
 "nbformat": 4,
 "nbformat_minor": 4
}
