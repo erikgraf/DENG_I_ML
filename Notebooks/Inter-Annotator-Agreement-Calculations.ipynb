{
 "cells": [
  {
   "cell_type": "markdown",
   "metadata": {},
   "source": [
    "# Calculating Inter-Annotator Agreement\n",
    "\n",
    "This notebook is focused on the calculation of the inter-annotator (a.k.a. inter-rater, inter-assessor) agreement. \n"
   ]
  },
  {
   "cell_type": "markdown",
   "metadata": {},
   "source": [
    "## Confirming the Environment Before Start"
   ]
  },
  {
   "cell_type": "code",
   "execution_count": null,
   "metadata": {},
   "outputs": [],
   "source": [
    "# Just a reminder of how to make sure you operate in the correct environment.\n",
    "# conda info is a very useful tool.\n",
    "# -e shows us the current environments\n",
    "# -a shows us all available information\n",
    "!conda info -a"
   ]
  },
  {
   "cell_type": "markdown",
   "metadata": {},
   "source": [
    "## Load the Data"
   ]
  },
  {
   "cell_type": "code",
   "execution_count": 2,
   "metadata": {},
   "outputs": [],
   "source": [
    "import pandas as pd\n",
    "\n",
    "df = pd.read_csv('Annotation_Swiss_SMS - Annotations_03_05_2019.csv', header=None)"
   ]
  },
  {
   "cell_type": "code",
   "execution_count": 3,
   "metadata": {},
   "outputs": [
    {
     "data": {
      "text/html": [
       "<div>\n",
       "<style scoped>\n",
       "    .dataframe tbody tr th:only-of-type {\n",
       "        vertical-align: middle;\n",
       "    }\n",
       "\n",
       "    .dataframe tbody tr th {\n",
       "        vertical-align: top;\n",
       "    }\n",
       "\n",
       "    .dataframe thead th {\n",
       "        text-align: right;\n",
       "    }\n",
       "</style>\n",
       "<table border=\"1\" class=\"dataframe\">\n",
       "  <thead>\n",
       "    <tr style=\"text-align: right;\">\n",
       "      <th></th>\n",
       "      <th>0</th>\n",
       "      <th>1</th>\n",
       "      <th>2</th>\n",
       "      <th>3</th>\n",
       "      <th>4</th>\n",
       "      <th>5</th>\n",
       "      <th>6</th>\n",
       "    </tr>\n",
       "  </thead>\n",
       "  <tbody>\n",
       "    <tr>\n",
       "      <th>45</th>\n",
       "      <td>Dänn sägi mal 7 ni , Viertelab  . Ok ? Sölli  ...</td>\n",
       "      <td>APP</td>\n",
       "      <td>APP</td>\n",
       "      <td>APP</td>\n",
       "      <td>APP</td>\n",
       "      <td>APP</td>\n",
       "      <td>APP</td>\n",
       "    </tr>\n",
       "    <tr>\n",
       "      <th>46</th>\n",
       "      <td>15 nov ! Es konzert vo synthesis ! Chunsch au ...</td>\n",
       "      <td>APP</td>\n",
       "      <td>APP</td>\n",
       "      <td>NEWS</td>\n",
       "      <td>APP</td>\n",
       "      <td>APP</td>\n",
       "      <td>APP</td>\n",
       "    </tr>\n",
       "    <tr>\n",
       "      <th>47</th>\n",
       "      <td>Hi sockeloch ! Jaaa isch au schomal  besser ga...</td>\n",
       "      <td>NC</td>\n",
       "      <td>NEWS</td>\n",
       "      <td>NEWS</td>\n",
       "      <td>NEWS</td>\n",
       "      <td>NEWS</td>\n",
       "      <td>NEWS</td>\n",
       "    </tr>\n",
       "    <tr>\n",
       "      <th>48</th>\n",
       "      <td>Sorry hans uf lutlos gha und im zimrliege  lah...</td>\n",
       "      <td>NEWS</td>\n",
       "      <td>NEWS</td>\n",
       "      <td>NEWS</td>\n",
       "      <td>NEWS</td>\n",
       "      <td>NEWS</td>\n",
       "      <td>NEWS</td>\n",
       "    </tr>\n",
       "    <tr>\n",
       "      <th>49</th>\n",
       "      <td>Mini guet ! Tusigdank  ! Sind gad gsi go marok...</td>\n",
       "      <td>NEWS</td>\n",
       "      <td>NEWS</td>\n",
       "      <td>NEWS</td>\n",
       "      <td>NEWS</td>\n",
       "      <td>NEWS</td>\n",
       "      <td>NEWS</td>\n",
       "    </tr>\n",
       "  </tbody>\n",
       "</table>\n",
       "</div>"
      ],
      "text/plain": [
       "                                                    0     1     2     3     4  \\\n",
       "45  Dänn sägi mal 7 ni , Viertelab  . Ok ? Sölli  ...   APP   APP   APP   APP   \n",
       "46  15 nov ! Es konzert vo synthesis ! Chunsch au ...   APP   APP  NEWS   APP   \n",
       "47  Hi sockeloch ! Jaaa isch au schomal  besser ga...    NC  NEWS  NEWS  NEWS   \n",
       "48  Sorry hans uf lutlos gha und im zimrliege  lah...  NEWS  NEWS  NEWS  NEWS   \n",
       "49  Mini guet ! Tusigdank  ! Sind gad gsi go marok...  NEWS  NEWS  NEWS  NEWS   \n",
       "\n",
       "       5     6  \n",
       "45   APP   APP  \n",
       "46   APP   APP  \n",
       "47  NEWS  NEWS  \n",
       "48  NEWS  NEWS  \n",
       "49  NEWS  NEWS  "
      ]
     },
     "execution_count": 3,
     "metadata": {},
     "output_type": "execute_result"
    }
   ],
   "source": [
    "# The output should look like this.\n",
    "# Use pd.read_csv? to look up the necessary parameters in case it does not look like below\n",
    "df[:50].tail()"
   ]
  },
  {
   "cell_type": "code",
   "execution_count": 5,
   "metadata": {},
   "outputs": [
    {
     "data": {
      "text/plain": [
       "0      True\n",
       "1      True\n",
       "2      True\n",
       "3     False\n",
       "4      True\n",
       "5      True\n",
       "6     False\n",
       "7      True\n",
       "8     False\n",
       "9     False\n",
       "10    False\n",
       "11     True\n",
       "12     True\n",
       "13    False\n",
       "14     True\n",
       "15    False\n",
       "16     True\n",
       "17    False\n",
       "18    False\n",
       "19    False\n",
       "20     True\n",
       "21    False\n",
       "22     True\n",
       "23    False\n",
       "24    False\n",
       "25     True\n",
       "26     True\n",
       "27    False\n",
       "28     True\n",
       "29    False\n",
       "30    False\n",
       "31    False\n",
       "32     True\n",
       "33    False\n",
       "34    False\n",
       "35    False\n",
       "36    False\n",
       "37    False\n",
       "38    False\n",
       "39     True\n",
       "40    False\n",
       "41     True\n",
       "42     True\n",
       "43     True\n",
       "44    False\n",
       "45     True\n",
       "46    False\n",
       "47    False\n",
       "48     True\n",
       "49     True\n",
       "50    False\n",
       "dtype: bool"
      ]
     },
     "execution_count": 5,
     "metadata": {},
     "output_type": "execute_result"
    }
   ],
   "source": [
    "# nunique allows us to identify the number of unique values per row.\n",
    "# If we include the text of the SMS then 2 unique rows equals complete agreement of all 6 student assessment groups\n",
    "(df[:51].nunique(1) == 2)"
   ]
  },
  {
   "cell_type": "code",
   "execution_count": 6,
   "metadata": {},
   "outputs": [
    {
     "data": {
      "text/plain": [
       "0.45098039215686275"
      ]
     },
     "execution_count": 6,
     "metadata": {},
     "output_type": "execute_result"
    }
   ],
   "source": [
    "# Dividing the sum() of the above output gives us the number of True statements (True == 1, False == 0)\n",
    "\n",
    "simple_annotator_agreement_content_type = (df[:51].nunique(1) == 2).sum()/len(df[:51])\n",
    "simple_annotator_agreement_content_type"
   ]
  },
  {
   "cell_type": "code",
   "execution_count": 7,
   "metadata": {},
   "outputs": [
    {
     "data": {
      "text/plain": [
       "0.631578947368421"
      ]
     },
     "execution_count": 7,
     "metadata": {},
     "output_type": "execute_result"
    }
   ],
   "source": [
    "# And the same for the age annotations\n",
    "simple_annotator_agreement_age = (df[51:].nunique(1) == 2).sum()/len(df[51:])\n",
    "simple_annotator_agreement_age"
   ]
  },
  {
   "cell_type": "markdown",
   "metadata": {},
   "source": [
    "# `Discussion: Simple Annotator Agreement`\n",
    "\n",
    "The tendency in the two calculated agreements fits well with the initial intuition most people had when performning the annotation. \n",
    "\n",
    "Most people found it easier to annotate for age than for the content_type.\n",
    "This can be the result of several factors:\n",
    "\n",
    "* Lack of a good definition for the meaning of the classes in `content_type`\n",
    "* Mismatch between the classes in `content_type` and the \"reality\" reflected by the SMS\n",
    "* simple_annotator_agreement_age < simple_annotator_agreement_content_type is of course also a reflection of the first being a binary classification and the second a multinomial classification scheme with 3 classes\n",
    "\n",
    "The important question to ask with regard to the calculated agreement is how to react to these observations.\n",
    "\n",
    "Generally it can be said that any annotator agreement below 0.5 should make us consider the annotation set up.\n",
    "\n",
    "1. Clear Instructions for Annotators?\n",
    "2. Annotator Fit for Task?\n",
    "     * Do they have the required knowledge?\n",
    "     * Do they have the required motivation?\n",
    "3. Defined Classes Make Sense?\n",
    "\n",
    "\n",
    "\n"
   ]
  },
  {
   "cell_type": "markdown",
   "metadata": {},
   "source": [
    "## Encoding Example"
   ]
  },
  {
   "cell_type": "code",
   "execution_count": 10,
   "metadata": {},
   "outputs": [],
   "source": [
    "# There are some handy tools for transforming data in the preprocessing\n",
    "# package of sci-kit learn.\n",
    "\n",
    "from sklearn.preprocessing import LabelEncoder\n",
    "\n",
    "df_age = df[51:]\n",
    "df_age_numeric = df_age[[1,2,3,4,5,6]].apply(LabelEncoder().fit_transform)"
   ]
  },
  {
   "cell_type": "code",
   "execution_count": 12,
   "metadata": {},
   "outputs": [
    {
     "data": {
      "text/html": [
       "<div>\n",
       "<style scoped>\n",
       "    .dataframe tbody tr th:only-of-type {\n",
       "        vertical-align: middle;\n",
       "    }\n",
       "\n",
       "    .dataframe tbody tr th {\n",
       "        vertical-align: top;\n",
       "    }\n",
       "\n",
       "    .dataframe thead th {\n",
       "        text-align: right;\n",
       "    }\n",
       "</style>\n",
       "<table border=\"1\" class=\"dataframe\">\n",
       "  <thead>\n",
       "    <tr style=\"text-align: right;\">\n",
       "      <th></th>\n",
       "      <th>1</th>\n",
       "      <th>2</th>\n",
       "      <th>3</th>\n",
       "      <th>4</th>\n",
       "      <th>5</th>\n",
       "      <th>6</th>\n",
       "    </tr>\n",
       "  </thead>\n",
       "  <tbody>\n",
       "    <tr>\n",
       "      <th>65</th>\n",
       "      <td>0</td>\n",
       "      <td>0</td>\n",
       "      <td>0</td>\n",
       "      <td>0</td>\n",
       "      <td>0</td>\n",
       "      <td>0</td>\n",
       "    </tr>\n",
       "    <tr>\n",
       "      <th>66</th>\n",
       "      <td>0</td>\n",
       "      <td>0</td>\n",
       "      <td>1</td>\n",
       "      <td>0</td>\n",
       "      <td>0</td>\n",
       "      <td>0</td>\n",
       "    </tr>\n",
       "    <tr>\n",
       "      <th>67</th>\n",
       "      <td>0</td>\n",
       "      <td>0</td>\n",
       "      <td>0</td>\n",
       "      <td>0</td>\n",
       "      <td>0</td>\n",
       "      <td>0</td>\n",
       "    </tr>\n",
       "    <tr>\n",
       "      <th>68</th>\n",
       "      <td>0</td>\n",
       "      <td>0</td>\n",
       "      <td>0</td>\n",
       "      <td>0</td>\n",
       "      <td>0</td>\n",
       "      <td>0</td>\n",
       "    </tr>\n",
       "    <tr>\n",
       "      <th>69</th>\n",
       "      <td>1</td>\n",
       "      <td>1</td>\n",
       "      <td>1</td>\n",
       "      <td>0</td>\n",
       "      <td>0</td>\n",
       "      <td>0</td>\n",
       "    </tr>\n",
       "  </tbody>\n",
       "</table>\n",
       "</div>"
      ],
      "text/plain": [
       "    1  2  3  4  5  6\n",
       "65  0  0  0  0  0  0\n",
       "66  0  0  1  0  0  0\n",
       "67  0  0  0  0  0  0\n",
       "68  0  0  0  0  0  0\n",
       "69  1  1  1  0  0  0"
      ]
     },
     "execution_count": 12,
     "metadata": {},
     "output_type": "execute_result"
    }
   ],
   "source": [
    "df_age_numeric.tail()"
   ]
  },
  {
   "cell_type": "markdown",
   "metadata": {},
   "source": [
    "## Installing `disagree` via pip"
   ]
  },
  {
   "cell_type": "code",
   "execution_count": null,
   "metadata": {},
   "outputs": [],
   "source": [
    "!conda install pip -y"
   ]
  },
  {
   "cell_type": "code",
   "execution_count": null,
   "metadata": {},
   "outputs": [],
   "source": [
    "# One has to be careful with installing pip packages into a conda environment.\n",
    "# conda package management and pip will not be aware of each other.\n",
    "# This can lead to situations where pip will update some packages that\n",
    "# are required by packages under its control.\n",
    "# To avoid this we could us pip freeze to save the current package versions. \n"
   ]
  },
  {
   "cell_type": "code",
   "execution_count": null,
   "metadata": {},
   "outputs": [],
   "source": [
    "!which pip"
   ]
  },
  {
   "cell_type": "code",
   "execution_count": null,
   "metadata": {},
   "outputs": [],
   "source": [
    "!pip install disagree"
   ]
  },
  {
   "cell_type": "code",
   "execution_count": 13,
   "metadata": {},
   "outputs": [
    {
     "name": "stdout",
     "output_type": "stream",
     "text": [
      "Fleiss kappa: -0.92\n"
     ]
    }
   ],
   "source": [
    "from disagree import metrics \n",
    "\n",
    "mets = metrics.Metrics(df_age_numeric, [0,1])\n",
    "fleiss = mets.fleiss_kappa()\n",
    "print(\"Fleiss kappa: {:.2f}\".format(fleiss))\n"
   ]
  },
  {
   "cell_type": "code",
   "execution_count": 14,
   "metadata": {},
   "outputs": [
    {
     "name": "stdout",
     "output_type": "stream",
     "text": [
      "Cohens kappa: 0.51\n"
     ]
    }
   ],
   "source": [
    "cohens = mets.cohens_kappa(ann1=1, ann2=2)\n",
    "print(\"Cohens kappa: {:.2f}\".format(cohens))"
   ]
  },
  {
   "cell_type": "code",
   "execution_count": 15,
   "metadata": {},
   "outputs": [
    {
     "name": "stdout",
     "output_type": "stream",
     "text": [
      "Number of instances with:\n",
      "=========================\n",
      "No disagreement: 12\n",
      "Bidisagreement: 7\n",
      "Tridisagreement: 0\n",
      "More disagreements: 0\n"
     ]
    },
    {
     "data": {
      "text/plain": [
       "(12, 7, 0, 0)"
      ]
     },
     "execution_count": 15,
     "metadata": {},
     "output_type": "execute_result"
    }
   ],
   "source": [
    "from disagree import BiDisagreements\n",
    "\n",
    "bidis = BiDisagreements(df_age_numeric, [0,1])\n",
    "\n",
    "\n",
    "bidis.agreements_summary()\n",
    "\n"
   ]
  },
  {
   "cell_type": "markdown",
   "metadata": {},
   "source": [
    "## `Exercise 1: Calculate Fleiss and Cohens Kappa for content_type`\n",
    "\n",
    "Calculate Fleiss and Cohens Kappa for the content_type by using disagree methods as shown in the cells above. "
   ]
  },
  {
   "cell_type": "code",
   "execution_count": null,
   "metadata": {},
   "outputs": [],
   "source": []
  }
 ],
 "metadata": {
  "kernelspec": {
   "display_name": "Python 3",
   "language": "python",
   "name": "python3"
  },
  "language_info": {
   "codemirror_mode": {
    "name": "ipython",
    "version": 3
   },
   "file_extension": ".py",
   "mimetype": "text/x-python",
   "name": "python",
   "nbconvert_exporter": "python",
   "pygments_lexer": "ipython3",
   "version": "3.7.3"
  }
 },
 "nbformat": 4,
 "nbformat_minor": 2
}
