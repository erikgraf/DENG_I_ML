{
 "cells": [
  {
   "cell_type": "markdown",
   "metadata": {},
   "source": [
    "# Calculating Inter-Annotator Agreement\n",
    "\n",
    "This notebook is focused on the calculation of inter-annotator (a.k.a. inter-rater, inter-assessor) agreements, the degree of agreement between multiple human assessors.\n",
    "\n",
    "\n"
   ]
  },
  {
   "cell_type": "markdown",
   "metadata": {},
   "source": [
    "## 0. Confirming the Environment Before Start"
   ]
  },
  {
   "cell_type": "code",
   "execution_count": null,
   "metadata": {
    "scrolled": true
   },
   "outputs": [],
   "source": [
    "# Just a reminder of how to make sure you operate in the correct environment.\n",
    "# conda info is a very useful tool.\n",
    "# -e shows us the current environments\n",
    "# -a shows us all available information\n",
    "!conda info -a"
   ]
  },
  {
   "cell_type": "markdown",
   "metadata": {},
   "source": [
    "## 1. Provisioning the Data"
   ]
  },
  {
   "cell_type": "markdown",
   "metadata": {},
   "source": [
    "### 1.1 Load the Data\n",
    "\n",
    "We will use the annotated Swiss SMS set as basis for calculating the agreements.\n",
    "The SMS texts were annotated by students with the following classes:\n",
    "* Content_Type (what kind of message was sent)\n",
    "    * Appointment [APP]\n",
    "    * News [NEWS]\n",
    "    * NC [No Content]\n",
    "* Age (if the author of the text message was rather young or old)\n",
    "    * young [JUNG]\n",
    "    * old [ALT]\n",
    "\n",
    "In order to do some calculations on top of these assessments we will have to\n",
    "* Load the CSV (created via an export from Google Sheets) file into a dataframe\n",
    "* Replace the String labels (the annotations) with numeric values (this is called `encoding`)"
   ]
  },
  {
   "cell_type": "code",
   "execution_count": null,
   "metadata": {},
   "outputs": [],
   "source": [
    "# Loading the CSV as a dataframe\n",
    "\n",
    "import pandas as pd\n",
    "\n",
    "df = pd.read_csv('Annotation_Swiss_SMS - Annotations_03_05_2019.csv', header=None)"
   ]
  },
  {
   "cell_type": "markdown",
   "metadata": {},
   "source": [
    "### 1.2 Exercise: Explore the Data\n",
    "\n",
    "Lets get some orientation in the dataframe.\n",
    "Use the commands\n",
    "\n",
    "* shape\n",
    "* head()\n",
    "* tail()\n",
    "\n",
    "in order to see what we have loaded."
   ]
  },
  {
   "cell_type": "code",
   "execution_count": null,
   "metadata": {},
   "outputs": [],
   "source": [
    "# Explore the dataframe with shape, head(), tail() commands\n",
    "df"
   ]
  },
  {
   "cell_type": "markdown",
   "metadata": {},
   "source": [
    "## 2 Calculating the Agreement for Age\n",
    "\n",
    "In order to calculate the agreement for the class `age` we have to complete the following steps:\n",
    "\n",
    "1. Create a df with the age rows \n",
    "2. Apply the analysis of unique values\n",
    "3. Calculate how often the annotators agreed (unique values = 1)"
   ]
  },
  {
   "cell_type": "markdown",
   "metadata": {},
   "source": [
    "### 2.1 Create a Dataframe with age rows"
   ]
  },
  {
   "cell_type": "code",
   "execution_count": null,
   "metadata": {},
   "outputs": [],
   "source": [
    "# a) Create a df with the age rows only \n",
    "\n",
    "df_age_annotations = df.loc[50:]\n",
    "df_age_annotations.head(5)"
   ]
  },
  {
   "cell_type": "code",
   "execution_count": null,
   "metadata": {},
   "outputs": [],
   "source": [
    "# b) Select only the columns with the labels, and reset the index to start with 0 (this is optional at this)\n",
    "\n",
    "df_age_annotations.reset_index(inplace=True, drop=True)\n",
    "df_age_annotations.loc[:,[1,2,3,4,5,6]].head(10)\n"
   ]
  },
  {
   "cell_type": "markdown",
   "metadata": {},
   "source": [
    "#### Pandas Dataframe Selection with loc()\n",
    "\n",
    "In the previous cell we have used the `loc()` method in order to select specific rows and columns from the dataframe. \n",
    "\n",
    "The method expects us to define rows and columns and returns the selection as a `view` on the original dataframe (as opposed to creating a copy of the original dataframe). \n",
    "\n",
    "In the above example `df_age_annotations.loc[:,[1,2,3,4,5,6]].head(5)`:\n",
    "* `[:` defines to use all rows of the `df_age_annotations` dataframe. \n",
    "    * `[5:]` would define to use rows from index `5` until the end of the dataframe\n",
    "    * `[:5]` this would define to use the rows `0, 1, 2, 3, 4, 5` of the dataframe\n",
    "* `[1,2,3,4,5,6]]` this selects the columns with the label `1`, `2`, `3`, `4`, `5`, `6`. `loc()` always interprets values as labels (as opposed to interpreting the `2` as the third column from left or s.th like this\n",
    "\n",
    "See: https://pandas.pydata.org/pandas-docs/stable/reference/api/pandas.DataFrame.loc.html for the official documentation. "
   ]
  },
  {
   "cell_type": "markdown",
   "metadata": {},
   "source": [
    "### 2.2 Analysing the Unique Values\n",
    "\n",
    "One way to look for disagreement in our annotations is to look at the number of unique values in a row.\n",
    "\n",
    "`60 \tHDMFG , pfus guet und danke vil vil mal H... \tJUNG \tJUNG \tJUNG \tJUNG \tJUNG \tJUNG`\n",
    "\n",
    "If all annotators agree, as is the case in row `60` the number of unique values in columns 1-6 is `1` (\"JUNG\").\n",
    "If the number of unique values is `> 1`, then this indicates disagreement between the annotators.\n",
    "\n",
    "We will use this approach for our first calculation of the inter-annotator agreement. \n"
   ]
  },
  {
   "cell_type": "code",
   "execution_count": null,
   "metadata": {},
   "outputs": [],
   "source": [
    "# nunique() (number of unique) allows us to identify the number of unique values per row.\n",
    "\n",
    "# this import is just for displaying the output as a HTML table\n",
    "from IPython.core.display import HTML\n",
    "\n",
    "# we make our selection on the dataframe and use nunique() with the argument 1 (unique values per row).\n",
    "# calling nunique(0) or just nunique() instead would give us the unique values per column.\n",
    "unique_values = df_age_annotations.loc[:,[1,2,3,4,5,6]].nunique(1)\n",
    "\n",
    "\n",
    "# the below line just formats the output of unique_values series to html, and in addition puts out\n",
    "# the corresponding rows of the dataframe\n",
    "HTML(unique_values.head(5).to_frame().to_html() + df_age_annotations.loc[:4,[1,2,3,4,5,6]].to_html())"
   ]
  },
  {
   "cell_type": "markdown",
   "metadata": {},
   "source": [
    "### 2.3 Calculate the Agreement\n",
    "\n",
    "Now that we have a way to identify all rows where the annotators agreed we can easily calculate the annotator agreement with:\n",
    "\n",
    "$\n",
    " \\frac{\\text{Number of Samples with Agreement}}{\\text{Number of Samples}} \n",
    "$\n",
    "\n",
    "This then translates to the cell below, where:\n",
    "\n",
    "* `df_age_annotations.loc[:,[1,2,3,4,5,6]].nunique(1) == 1).sum()` is the number of samples where annotators agreed.\n",
    "* `len(df_age_annotations)` gives us the number of samples\n",
    "\n",
    "Based on this calculation we see that the agreement is `0.6`. In 60% of the rows (samples) all 6 assessors agreed completely in their judgement of `JUNG/ALT`.\n"
   ]
  },
  {
   "cell_type": "code",
   "execution_count": null,
   "metadata": {},
   "outputs": [],
   "source": [
    "simple_annotator_agreement_age = (df_age_annotations.loc[:,[1,2,3,4,5,6]].nunique(1) == 1).sum()/len(df_age_annotations)\n",
    "simple_annotator_agreement_age"
   ]
  },
  {
   "cell_type": "markdown",
   "metadata": {},
   "source": [
    "#### Exercise: Calculate the Agreement for content_type\n",
    "\n",
    "Calculate the agreement for the assessments of class `content_type` analog to what we have done above for `age`."
   ]
  },
  {
   "cell_type": "code",
   "execution_count": null,
   "metadata": {},
   "outputs": [],
   "source": []
  },
  {
   "cell_type": "markdown",
   "metadata": {},
   "source": [
    "## 3. Discussion: Simple Annotator Agreement\n",
    "\n",
    "The tendency in the two calculated agreements fits well with the initial intuition most people had when performning the annotation. \n",
    "\n",
    "Most people found it easier to annotate for age than for the content_type.\n",
    "This can be the result of several factors:\n",
    "\n",
    "* Lack of a good definition for the meaning of the classes in `content_type`\n",
    "* Mismatch between the classes in `content_type` and the \"reality\" reflected by the SMS\n",
    "* simple_annotator_agreement_age < simple_annotator_agreement_content_type is of course also a reflection of the first being a binary classification and the second a multinomial classification scheme with 3 classes\n",
    "\n",
    "The important question to ask with regard to the calculated agreement is how to react to these observations.\n",
    "\n",
    "Generally it can be said that any annotator agreement below 0.5 should make us consider the annotation set up.\n",
    "\n",
    "1. Clear Instructions for Annotators?\n",
    "2. Annotator Fit for Task?\n",
    "     * Do they have the required knowledge?\n",
    "     * Do they have the required motivation?\n",
    "3. Defined Classes Make Sense?\n",
    "\n",
    "\n",
    "\n"
   ]
  },
  {
   "cell_type": "markdown",
   "metadata": {},
   "source": [
    "## 4. Calculating the Agreement Based on Statistical Measures"
   ]
  },
  {
   "cell_type": "markdown",
   "metadata": {},
   "source": [
    "### 4.1 Encoding Categorical Data\n",
    "\n",
    "\n",
    "When we are working with annotated data, we often encounter categorical data.\n",
    "\n",
    "\n",
    "<img src=\"./images/data_types.png\" alt=\"Drawing\" style=\"width: 600px;\"/>\n",
    "\n",
    "#### Categorical Data\n",
    "\n",
    "Categorical data as shown in the graphic above, refers to data that represents categories in the widest sense.\n",
    "Im supervised ML we will often encounter categorical data such as:\n",
    "\n",
    "* relevance: \"relevant/ not relevant\"\n",
    "* class: \"spam/not spam\"\n",
    "* contract type: \"lease/mortgage/...\"\n",
    "\n",
    "or as in our case with the SMS:\n",
    "\n",
    "* content_type: \"NC/APP/NEWS\"\n",
    "* age: JUNG/ALT\n",
    "\n",
    "When data is annotated this is often done with the categorical labels.\n",
    "If we want to make computations based on these labels then it is often advantageous to map those categories to numeric values (e.g. removes necessity for String handling, smaller size of integer type). This process is called encoding. \n",
    "\n",
    "#### Encoding\n",
    "\n",
    "Encoding is a straightforward process. \n",
    "If we have labels in the form of Strings that we want to map to Ints, we simply create a mapping between the labels and integer numbers.\n",
    "\n",
    "Sklearn supports this with the `LabelEncoder` as shown in the cell below.\n",
    "\n"
   ]
  },
  {
   "cell_type": "code",
   "execution_count": null,
   "metadata": {},
   "outputs": [],
   "source": [
    "# There are some handy tools for transforming data in the preprocessing\n",
    "# package of sci-kit learn.\n",
    "\n",
    "from sklearn.preprocessing import LabelEncoder\n",
    "\n",
    "df_age = df[50:]\n",
    "encoder = LabelEncoder()\n",
    "df_age_numeric = df_age[[1,2,3,4,5,6]].apply(encoder.fit_transform)"
   ]
  },
  {
   "cell_type": "code",
   "execution_count": null,
   "metadata": {},
   "outputs": [],
   "source": [
    "df_age_numeric"
   ]
  },
  {
   "cell_type": "code",
   "execution_count": null,
   "metadata": {},
   "outputs": [],
   "source": [
    "# we can use the encoder to map back to the original values\n",
    "\n",
    "encoder.inverse_transform([0, 1])"
   ]
  },
  {
   "cell_type": "markdown",
   "metadata": {},
   "source": [
    "### 4.2 Statistical Tools to Calculate Inter-Annotator Agreement\n",
    "\n",
    "Statistical tooling is often applied to calculate the level of agreement between annotators.\n",
    "The reason to bring in statistical tooling is the following:\n",
    "\n",
    "\"We would like to consider how likely it is, that n people agree on their assessments.\"\n",
    "\n",
    "In a nutshell these tools take the distribution of the labels and the number of assessors into account when calculating the agreement.\n",
    "This can be useful in cases where the distribution of labels is extremely skewed towards some labels (e.g. 2 out of 10 labels that make up 90% of the annotations).\n",
    "\n",
    "Therein lies the advantage of these tools. Their disadvantage is that it is harder to interprete the results. \n",
    "In our simple calculation it is completely clear how to interprete the result."
   ]
  },
  {
   "cell_type": "markdown",
   "metadata": {},
   "source": [
    "### 4.3 Installing `disagree` via pip\n",
    "\n",
    "We will use a library called \"disagree\" for the calculation of the agreement. \n",
    "\n",
    "The library is only available via pip and not via conda channels."
   ]
  },
  {
   "cell_type": "code",
   "execution_count": null,
   "metadata": {},
   "outputs": [],
   "source": [
    "# One has to be careful with installing pip packages into a conda environment.\n",
    "# conda package management and pip will not be aware of each other.\n",
    "# This can lead to situations where pip will update some packages that\n",
    "# are required by packages under its control.\n",
    "# To avoid this we could us pip freeze to force pip to stick with the currently installed package versions. \n"
   ]
  },
  {
   "cell_type": "code",
   "execution_count": null,
   "metadata": {},
   "outputs": [],
   "source": [
    "# As a first step for using pip when operating in a conda environment, we have to make sure we use the correct pip.\n",
    "# This can be done with the command below on a linux or Mac. \n",
    "# The path has to be within the correct environment\n",
    "!which pip"
   ]
  },
  {
   "cell_type": "code",
   "execution_count": null,
   "metadata": {},
   "outputs": [],
   "source": [
    "!pip install disagree"
   ]
  },
  {
   "cell_type": "markdown",
   "metadata": {},
   "source": [
    "### 4.4 Calculating Agreement"
   ]
  },
  {
   "cell_type": "markdown",
   "metadata": {},
   "source": [
    "#### Agreement Between Two Annotators - Cohens Kappa\n",
    "\n",
    "Cohen's Kappa is probably the most commonly used approach to calculate the agreement between two annotators (exactly two, and not more)."
   ]
  },
  {
   "cell_type": "code",
   "execution_count": null,
   "metadata": {},
   "outputs": [],
   "source": [
    "### Cohens Kappa\n",
    "\n",
    "cohens = mets.cohens_kappa(ann1=1, ann2=2)\n",
    "print(\"Cohens kappa: {:.2f}\".format(cohens))\n",
    "\n",
    "from sklearn.metrics import cohen_kappa_score\n",
    "cohens_sklearn = cohen_kappa_score(df_age_numeric[[1]], df_age_numeric[[2]])\n",
    "print(\"Cohens kappa from sklearn: {:.2f}\".format(cohens))"
   ]
  },
  {
   "cell_type": "markdown",
   "metadata": {},
   "source": [
    "### Agreement Between N Annotators - Fleiss Kappa\n",
    "\n",
    "Fleiss Kappa is a generalisation of Cohen's Kappa that allows us to calculate the agreement between a fixed number of `N` annotators."
   ]
  },
  {
   "cell_type": "code",
   "execution_count": null,
   "metadata": {},
   "outputs": [],
   "source": [
    "# Note: This cell will give an error if you execute it as shown below.\n",
    "# To fix the error you will have to reset the indices of the dataframe to start at 0.\n",
    "from disagree import metrics\n",
    "\n",
    "mets = metrics.Metrics(df_age_numeric)\n",
    "fleiss = mets.fleiss_kappa()\n",
    "print(\"Fleiss kappa: {:.2f}\".format(fleiss))\n"
   ]
  },
  {
   "cell_type": "code",
   "execution_count": null,
   "metadata": {},
   "outputs": [],
   "source": [
    "# Note: This cell will only work once you have fixed the indices.\n",
    "from disagree.agreements import BiDisagreements\n",
    "\n",
    "bidis = BiDisagreements(df_age_numeric)\n",
    "bidis.agreements_summary()\n",
    "\n"
   ]
  },
  {
   "cell_type": "markdown",
   "metadata": {},
   "source": [
    "## `Exercise 1: Calculate Fleiss and Cohens Kappa for content_type`\n",
    "\n",
    "Calculate Fleiss and Cohens Kappa for the content_type by using disagree methods as shown in the cells above. "
   ]
  },
  {
   "cell_type": "code",
   "execution_count": null,
   "metadata": {},
   "outputs": [],
   "source": []
  },
  {
   "cell_type": "code",
   "execution_count": null,
   "metadata": {},
   "outputs": [],
   "source": []
  }
 ],
 "metadata": {
  "kernelspec": {
   "display_name": "Python 3",
   "language": "python",
   "name": "python3"
  },
  "language_info": {
   "codemirror_mode": {
    "name": "ipython",
    "version": 3
   },
   "file_extension": ".py",
   "mimetype": "text/x-python",
   "name": "python",
   "nbconvert_exporter": "python",
   "pygments_lexer": "ipython3",
   "version": "3.7.7"
  }
 },
 "nbformat": 4,
 "nbformat_minor": 2
}
