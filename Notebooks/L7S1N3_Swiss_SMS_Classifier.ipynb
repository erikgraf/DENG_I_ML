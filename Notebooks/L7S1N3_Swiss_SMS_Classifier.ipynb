{
 "cells": [
  {
   "cell_type": "markdown",
   "metadata": {},
   "source": [
    "# Swiss SMS Classifier"
   ]
  },
  {
   "cell_type": "code",
   "execution_count": 2,
   "metadata": {},
   "outputs": [],
   "source": [
    "import pandas as pd\n",
    "from sklearn.feature_extraction.text import CountVectorizer\n",
    "\n",
    "df = pd.read_csv('Annotation_Swiss_SMS - Annotations_03_05_2019.csv', header=None)\n",
    "count_vect = CountVectorizer()\n",
    "X_train_counts = count_vect.fit_transform(df[[0]][0])\n",
    "\n"
   ]
  },
  {
   "cell_type": "code",
   "execution_count": 3,
   "metadata": {},
   "outputs": [
    {
     "data": {
      "text/plain": [
       "(70, 769)"
      ]
     },
     "execution_count": 3,
     "metadata": {},
     "output_type": "execute_result"
    }
   ],
   "source": [
    "X_train_counts.shape"
   ]
  },
  {
   "cell_type": "markdown",
   "metadata": {},
   "source": [
    "## Creating the Ground Truth.\n",
    "\n",
    "Before we can start using the annotations we have created in class we have to create, what is referred to as `ground truth`.\n",
    "\n",
    "We have already seen multiple times that the input of the training process consists of two elements:\n",
    "* input (a.k.a. X, sample representation)\n",
    "* target (a.k.a Y, the true label)\n",
    "\n",
    "In examples we have seen before the target value was always pre-defined as part of the test collection (a.k.a training collection). In the case of the Swiss SMS collection we have to create the ground truth ourselves.\n",
    "Creating the ground truth in this case, is the process of `consolidating` the labels or ratings provided by the set of annotators.\n",
    "\n",
    "It is generally not a straightforward process. Depending on the type of annotation this can be done by averaging the values of multiple annotators (e.g. when rating on a scale) or by forcing consensus (e.g. by defining if 4/5 annotators agree we define the rating of the 4 as ground truth).\n",
    "\n",
    "\n",
    "Creating the `ground truth` should also not be considered a 'fire and forget' task. It is generally necessary to re-visit the `ground truth` creation process, its definitions at multiple stages during the lifetime of machine learning applications. This can be triggered by events such as:\n",
    "* Addition of more annotators\n",
    "* Expansion of annotated material\n",
    "* Observations from tests on unseen data\n",
    "\n",
    "\n",
    " \n",
    " \n"
   ]
  },
  {
   "cell_type": "markdown",
   "metadata": {},
   "source": [
    "# `Exercise: Establish Ground Truth`\n",
    "\n",
    "Establish the ground truth for the content_type part of the annotated SMS collection.\n",
    "\n",
    "The end result should be a dataframe that consists of two columns, one containing the text of the SMS and the other the consensus rating. \n"
   ]
  },
  {
   "cell_type": "code",
   "execution_count": 9,
   "metadata": {},
   "outputs": [
    {
     "data": {
      "text/plain": [
       "35"
      ]
     },
     "execution_count": 9,
     "metadata": {},
     "output_type": "execute_result"
    }
   ],
   "source": [
    "classes = ['NEWS', 'APP', 'NC']\n",
    "row_frequencies = []\n",
    "for class_name in classes:\n",
    "    row_frequencies.append(df[:50].apply(lambda row: sum(row[1:7]==class_name) ,axis=1))\n",
    "\n",
    "df_row_freq = pd.concat((row_frequencies[0].to_frame(), row_frequencies[1].to_frame(), row_frequencies[2].to_frame()), axis=1)\n",
    "df_row_freq.columns =  ['NEWS', 'APP', 'NC']\n",
    "\n",
    "row_max_count = df_row_freq.max(axis=1)\n",
    "row_max_label = df_row_freq.idxmax(axis=1)\n",
    "row_max_count.name = 7\n",
    "row_max_label.name = 8\n",
    "\n",
    "df_consensus = pd.concat((df[:50], row_max_count, row_max_label), axis=1)\n",
    "df_tcol = df_consensus[df_consensus[7] > 4][[0,8]]\n",
    "len(df_tcol)"
   ]
  },
  {
   "cell_type": "code",
   "execution_count": null,
   "metadata": {},
   "outputs": [],
   "source": []
  },
  {
   "cell_type": "code",
   "execution_count": null,
   "metadata": {},
   "outputs": [],
   "source": []
  },
  {
   "cell_type": "code",
   "execution_count": 10,
   "metadata": {},
   "outputs": [
    {
     "data": {
      "text/html": [
       "<div>\n",
       "<style scoped>\n",
       "    .dataframe tbody tr th:only-of-type {\n",
       "        vertical-align: middle;\n",
       "    }\n",
       "\n",
       "    .dataframe tbody tr th {\n",
       "        vertical-align: top;\n",
       "    }\n",
       "\n",
       "    .dataframe thead th {\n",
       "        text-align: right;\n",
       "    }\n",
       "</style>\n",
       "<table border=\"1\" class=\"dataframe\">\n",
       "  <thead>\n",
       "    <tr style=\"text-align: right;\">\n",
       "      <th></th>\n",
       "      <th>0</th>\n",
       "      <th>1</th>\n",
       "      <th>2</th>\n",
       "      <th>3</th>\n",
       "      <th>4</th>\n",
       "      <th>5</th>\n",
       "      <th>6</th>\n",
       "      <th>7</th>\n",
       "      <th>8</th>\n",
       "    </tr>\n",
       "  </thead>\n",
       "  <tbody>\n",
       "    <tr>\n",
       "      <th>0</th>\n",
       "      <td>De bini  aber froh , dassd  ni bisch abgschtür...</td>\n",
       "      <td>NEWS</td>\n",
       "      <td>NEWS</td>\n",
       "      <td>NEWS</td>\n",
       "      <td>NEWS</td>\n",
       "      <td>NEWS</td>\n",
       "      <td>NEWS</td>\n",
       "      <td>6</td>\n",
       "      <td>NEWS</td>\n",
       "    </tr>\n",
       "    <tr>\n",
       "      <th>1</th>\n",
       "      <td>höt ned zu der cho han leider no vell ufzgi a ...</td>\n",
       "      <td>APP</td>\n",
       "      <td>APP</td>\n",
       "      <td>APP</td>\n",
       "      <td>APP</td>\n",
       "      <td>APP</td>\n",
       "      <td>APP</td>\n",
       "      <td>6</td>\n",
       "      <td>APP</td>\n",
       "    </tr>\n",
       "    <tr>\n",
       "      <th>2</th>\n",
       "      <td>nei , säg das ned ! :( debi hani  der welle ve...</td>\n",
       "      <td>NC</td>\n",
       "      <td>NC</td>\n",
       "      <td>NC</td>\n",
       "      <td>NC</td>\n",
       "      <td>NC</td>\n",
       "      <td>NC</td>\n",
       "      <td>6</td>\n",
       "      <td>NC</td>\n",
       "    </tr>\n",
       "    <tr>\n",
       "      <th>3</th>\n",
       "      <td>d' shm  isch erscht nöchscht wuuchä (   dez. )...</td>\n",
       "      <td>APP</td>\n",
       "      <td>NEWS</td>\n",
       "      <td>APP</td>\n",
       "      <td>NEWS, APP</td>\n",
       "      <td>APP</td>\n",
       "      <td>NC</td>\n",
       "      <td>3</td>\n",
       "      <td>APP</td>\n",
       "    </tr>\n",
       "    <tr>\n",
       "      <th>4</th>\n",
       "      <td>wir sicher klappe . Also chunnsch dä chäs am f...</td>\n",
       "      <td>APP</td>\n",
       "      <td>APP</td>\n",
       "      <td>APP</td>\n",
       "      <td>APP</td>\n",
       "      <td>APP</td>\n",
       "      <td>APP</td>\n",
       "      <td>6</td>\n",
       "      <td>APP</td>\n",
       "    </tr>\n",
       "  </tbody>\n",
       "</table>\n",
       "</div>"
      ],
      "text/plain": [
       "                                                   0     1     2     3  \\\n",
       "0  De bini  aber froh , dassd  ni bisch abgschtür...  NEWS  NEWS  NEWS   \n",
       "1  höt ned zu der cho han leider no vell ufzgi a ...   APP   APP   APP   \n",
       "2  nei , säg das ned ! :( debi hani  der welle ve...    NC    NC    NC   \n",
       "3  d' shm  isch erscht nöchscht wuuchä (   dez. )...   APP  NEWS   APP   \n",
       "4  wir sicher klappe . Also chunnsch dä chäs am f...   APP   APP   APP   \n",
       "\n",
       "           4     5     6  7     8  \n",
       "0       NEWS  NEWS  NEWS  6  NEWS  \n",
       "1        APP   APP   APP  6   APP  \n",
       "2         NC    NC    NC  6    NC  \n",
       "3  NEWS, APP   APP    NC  3   APP  \n",
       "4        APP   APP   APP  6   APP  "
      ]
     },
     "execution_count": 10,
     "metadata": {},
     "output_type": "execute_result"
    }
   ],
   "source": [
    "df_consensus.head()"
   ]
  },
  {
   "cell_type": "code",
   "execution_count": 11,
   "metadata": {},
   "outputs": [
    {
     "data": {
      "text/html": [
       "<div>\n",
       "<style scoped>\n",
       "    .dataframe tbody tr th:only-of-type {\n",
       "        vertical-align: middle;\n",
       "    }\n",
       "\n",
       "    .dataframe tbody tr th {\n",
       "        vertical-align: top;\n",
       "    }\n",
       "\n",
       "    .dataframe thead th {\n",
       "        text-align: right;\n",
       "    }\n",
       "</style>\n",
       "<table border=\"1\" class=\"dataframe\">\n",
       "  <thead>\n",
       "    <tr style=\"text-align: right;\">\n",
       "      <th></th>\n",
       "      <th>0</th>\n",
       "      <th>8</th>\n",
       "    </tr>\n",
       "  </thead>\n",
       "  <tbody>\n",
       "    <tr>\n",
       "      <th>0</th>\n",
       "      <td>De bini  aber froh , dassd  ni bisch abgschtür...</td>\n",
       "      <td>NEWS</td>\n",
       "    </tr>\n",
       "    <tr>\n",
       "      <th>1</th>\n",
       "      <td>höt ned zu der cho han leider no vell ufzgi a ...</td>\n",
       "      <td>APP</td>\n",
       "    </tr>\n",
       "    <tr>\n",
       "      <th>2</th>\n",
       "      <td>nei , säg das ned ! :( debi hani  der welle ve...</td>\n",
       "      <td>NC</td>\n",
       "    </tr>\n",
       "    <tr>\n",
       "      <th>4</th>\n",
       "      <td>wir sicher klappe . Also chunnsch dä chäs am f...</td>\n",
       "      <td>APP</td>\n",
       "    </tr>\n",
       "    <tr>\n",
       "      <th>5</th>\n",
       "      <td>Ne , glaub nöd . Bin mal go luege , isch nöd s...</td>\n",
       "      <td>NC</td>\n",
       "    </tr>\n",
       "    <tr>\n",
       "      <th>6</th>\n",
       "      <td>brucsch nu öpis ? ich bringä sicher milch , an...</td>\n",
       "      <td>NEWS</td>\n",
       "    </tr>\n",
       "    <tr>\n",
       "      <th>7</th>\n",
       "      <td>eus ischs  eigetli glich wägem    ? Du müessti...</td>\n",
       "      <td>NC</td>\n",
       "    </tr>\n",
       "    <tr>\n",
       "      <th>8</th>\n",
       "      <td>usserd mine für is oberland . Will aber am HB ...</td>\n",
       "      <td>NEWS</td>\n",
       "    </tr>\n",
       "    <tr>\n",
       "      <th>10</th>\n",
       "      <td>i gani  heii .. :) Nacher schlafi  , bi brutaa...</td>\n",
       "      <td>NC</td>\n",
       "    </tr>\n",
       "    <tr>\n",
       "      <th>11</th>\n",
       "      <td>Säge uf dim wiitere lebeswäg ! ! ! Er umgitt D...</td>\n",
       "      <td>NC</td>\n",
       "    </tr>\n",
       "    <tr>\n",
       "      <th>12</th>\n",
       "      <td>gschickt . Due aber zerscht bitte iri def vo g...</td>\n",
       "      <td>NC</td>\n",
       "    </tr>\n",
       "    <tr>\n",
       "      <th>13</th>\n",
       "      <td>abneh ... han schuel gha wot  du mir aglüte hä...</td>\n",
       "      <td>NC</td>\n",
       "    </tr>\n",
       "    <tr>\n",
       "      <th>14</th>\n",
       "      <td>Jöö bisch du süess ! Mir häts   au super gfall...</td>\n",
       "      <td>NC</td>\n",
       "    </tr>\n",
       "    <tr>\n",
       "      <th>15</th>\n",
       "      <td>Hallo Ehr zwei Liebe ! De Jacques hätmers    e...</td>\n",
       "      <td>NC</td>\n",
       "    </tr>\n",
       "    <tr>\n",
       "      <th>16</th>\n",
       "      <td>Hesch du e idee ? Oder wömmer  sus am 6 i bim ...</td>\n",
       "      <td>APP</td>\n",
       "    </tr>\n",
       "    <tr>\n",
       "      <th>17</th>\n",
       "      <td>no voll mit der Usstellig beschäftiget . Häsch...</td>\n",
       "      <td>NC</td>\n",
       "    </tr>\n",
       "    <tr>\n",
       "      <th>20</th>\n",
       "      <td>Hey corinne ! Han imfall  leidr gmerkt dasi am...</td>\n",
       "      <td>APP</td>\n",
       "    </tr>\n",
       "    <tr>\n",
       "      <th>22</th>\n",
       "      <td>Uff , NNNN hot dogs produziert :) dän chumi  u...</td>\n",
       "      <td>APP</td>\n",
       "    </tr>\n",
       "    <tr>\n",
       "      <th>24</th>\n",
       "      <td>Hihi danke eus gahts   guet mir sitzed grad im...</td>\n",
       "      <td>NEWS</td>\n",
       "    </tr>\n",
       "    <tr>\n",
       "      <th>25</th>\n",
       "      <td>ufm  zug si . Gsesch alles easy :) wünsch oi g...</td>\n",
       "      <td>NC</td>\n",
       "    </tr>\n",
       "    <tr>\n",
       "      <th>26</th>\n",
       "      <td>Ok , danke ... Gsehmer   eus det , so ca. 18:15 h</td>\n",
       "      <td>APP</td>\n",
       "    </tr>\n",
       "    <tr>\n",
       "      <th>28</th>\n",
       "      <td>morn , wie wärs  wenn i so uf di halbi 5 i wür...</td>\n",
       "      <td>APP</td>\n",
       "    </tr>\n",
       "    <tr>\n",
       "      <th>30</th>\n",
       "      <td>Hey pascale , wi gohts   Dir ? Bisch fit und z...</td>\n",
       "      <td>NC</td>\n",
       "    </tr>\n",
       "    <tr>\n",
       "      <th>31</th>\n",
       "      <td>Danke ;-) Werom , gehds  nor schlemmi Sache ? ...</td>\n",
       "      <td>NC</td>\n",
       "    </tr>\n",
       "    <tr>\n",
       "      <th>32</th>\n",
       "      <td>Isch sehr intressants Thema ! Und denn hani  n...</td>\n",
       "      <td>NEWS</td>\n",
       "    </tr>\n",
       "    <tr>\n",
       "      <th>37</th>\n",
       "      <td>marlis ! Gohts  guet ? Gehts  det wo du schaff...</td>\n",
       "      <td>NEWS</td>\n",
       "    </tr>\n",
       "    <tr>\n",
       "      <th>39</th>\n",
       "      <td>jo , bini  und jo das kenni  ... vo Tele Züri ...</td>\n",
       "      <td>NC</td>\n",
       "    </tr>\n",
       "    <tr>\n",
       "      <th>41</th>\n",
       "      <td>Hey dudeli , dä kai und ich gönd na id   stadt...</td>\n",
       "      <td>APP</td>\n",
       "    </tr>\n",
       "    <tr>\n",
       "      <th>42</th>\n",
       "      <td>Di üebig isch imfau unlösbar . Ke schritt wite...</td>\n",
       "      <td>APP</td>\n",
       "    </tr>\n",
       "    <tr>\n",
       "      <th>43</th>\n",
       "      <td>si vor mir und han mich eifach nach angie gseh...</td>\n",
       "      <td>NC</td>\n",
       "    </tr>\n",
       "    <tr>\n",
       "      <th>45</th>\n",
       "      <td>Dänn sägi mal 7 ni , Viertelab  . Ok ? Sölli  ...</td>\n",
       "      <td>APP</td>\n",
       "    </tr>\n",
       "    <tr>\n",
       "      <th>46</th>\n",
       "      <td>15 nov ! Es konzert vo synthesis ! Chunsch au ...</td>\n",
       "      <td>APP</td>\n",
       "    </tr>\n",
       "    <tr>\n",
       "      <th>47</th>\n",
       "      <td>Hi sockeloch ! Jaaa isch au schomal  besser ga...</td>\n",
       "      <td>NEWS</td>\n",
       "    </tr>\n",
       "    <tr>\n",
       "      <th>48</th>\n",
       "      <td>Sorry hans uf lutlos gha und im zimrliege  lah...</td>\n",
       "      <td>NEWS</td>\n",
       "    </tr>\n",
       "    <tr>\n",
       "      <th>49</th>\n",
       "      <td>Mini guet ! Tusigdank  ! Sind gad gsi go marok...</td>\n",
       "      <td>NEWS</td>\n",
       "    </tr>\n",
       "  </tbody>\n",
       "</table>\n",
       "</div>"
      ],
      "text/plain": [
       "                                                    0     8\n",
       "0   De bini  aber froh , dassd  ni bisch abgschtür...  NEWS\n",
       "1   höt ned zu der cho han leider no vell ufzgi a ...   APP\n",
       "2   nei , säg das ned ! :( debi hani  der welle ve...    NC\n",
       "4   wir sicher klappe . Also chunnsch dä chäs am f...   APP\n",
       "5   Ne , glaub nöd . Bin mal go luege , isch nöd s...    NC\n",
       "6   brucsch nu öpis ? ich bringä sicher milch , an...  NEWS\n",
       "7   eus ischs  eigetli glich wägem    ? Du müessti...    NC\n",
       "8   usserd mine für is oberland . Will aber am HB ...  NEWS\n",
       "10  i gani  heii .. :) Nacher schlafi  , bi brutaa...    NC\n",
       "11  Säge uf dim wiitere lebeswäg ! ! ! Er umgitt D...    NC\n",
       "12  gschickt . Due aber zerscht bitte iri def vo g...    NC\n",
       "13  abneh ... han schuel gha wot  du mir aglüte hä...    NC\n",
       "14  Jöö bisch du süess ! Mir häts   au super gfall...    NC\n",
       "15  Hallo Ehr zwei Liebe ! De Jacques hätmers    e...    NC\n",
       "16  Hesch du e idee ? Oder wömmer  sus am 6 i bim ...   APP\n",
       "17  no voll mit der Usstellig beschäftiget . Häsch...    NC\n",
       "20  Hey corinne ! Han imfall  leidr gmerkt dasi am...   APP\n",
       "22  Uff , NNNN hot dogs produziert :) dän chumi  u...   APP\n",
       "24  Hihi danke eus gahts   guet mir sitzed grad im...  NEWS\n",
       "25  ufm  zug si . Gsesch alles easy :) wünsch oi g...    NC\n",
       "26  Ok , danke ... Gsehmer   eus det , so ca. 18:15 h   APP\n",
       "28  morn , wie wärs  wenn i so uf di halbi 5 i wür...   APP\n",
       "30  Hey pascale , wi gohts   Dir ? Bisch fit und z...    NC\n",
       "31  Danke ;-) Werom , gehds  nor schlemmi Sache ? ...    NC\n",
       "32  Isch sehr intressants Thema ! Und denn hani  n...  NEWS\n",
       "37  marlis ! Gohts  guet ? Gehts  det wo du schaff...  NEWS\n",
       "39  jo , bini  und jo das kenni  ... vo Tele Züri ...    NC\n",
       "41  Hey dudeli , dä kai und ich gönd na id   stadt...   APP\n",
       "42  Di üebig isch imfau unlösbar . Ke schritt wite...   APP\n",
       "43  si vor mir und han mich eifach nach angie gseh...    NC\n",
       "45  Dänn sägi mal 7 ni , Viertelab  . Ok ? Sölli  ...   APP\n",
       "46  15 nov ! Es konzert vo synthesis ! Chunsch au ...   APP\n",
       "47  Hi sockeloch ! Jaaa isch au schomal  besser ga...  NEWS\n",
       "48  Sorry hans uf lutlos gha und im zimrliege  lah...  NEWS\n",
       "49  Mini guet ! Tusigdank  ! Sind gad gsi go marok...  NEWS"
      ]
     },
     "execution_count": 11,
     "metadata": {},
     "output_type": "execute_result"
    }
   ],
   "source": [
    "df_tcol"
   ]
  },
  {
   "cell_type": "markdown",
   "metadata": {},
   "source": [
    "# Create Vectoriser"
   ]
  },
  {
   "cell_type": "code",
   "execution_count": 12,
   "metadata": {},
   "outputs": [
    {
     "data": {
      "text/plain": [
       "769"
      ]
     },
     "execution_count": 12,
     "metadata": {},
     "output_type": "execute_result"
    }
   ],
   "source": [
    "from sklearn.feature_extraction.text import CountVectorizer\n",
    "\n",
    "count_vect = CountVectorizer()\n",
    "count_vect.fit_transform(df[[0]][0])\n",
    "len(count_vect.vocabulary_)"
   ]
  },
  {
   "cell_type": "markdown",
   "metadata": {},
   "source": [
    "# Transform Input - Create Input Vectors"
   ]
  },
  {
   "cell_type": "code",
   "execution_count": null,
   "metadata": {},
   "outputs": [],
   "source": [
    "count_vect.transform(['hey dudeli']).todense().A1"
   ]
  },
  {
   "cell_type": "code",
   "execution_count": 16,
   "metadata": {},
   "outputs": [],
   "source": [
    "df_tcol[0] = df_tcol[0].map(lambda x: count_vect.transform([x]).todense().A1)"
   ]
  },
  {
   "cell_type": "code",
   "execution_count": 30,
   "metadata": {},
   "outputs": [],
   "source": [
    "from sklearn.utils import shuffle\n",
    "\n",
    "df_tcol_shuffled = shuffle(df_tcol)"
   ]
  },
  {
   "cell_type": "code",
   "execution_count": 35,
   "metadata": {},
   "outputs": [],
   "source": [
    "train_x = df_tcol_shuffled[0][:25].ravel().tolist()\n",
    "train_y = df_tcol_shuffled[8][:25]\n",
    "test_x = df_tcol_shuffled[0][25:].ravel().tolist()\n",
    "test_y = df_tcol_shuffled[8][25:]"
   ]
  },
  {
   "cell_type": "markdown",
   "metadata": {},
   "source": [
    "# A First Classification Run"
   ]
  },
  {
   "cell_type": "code",
   "execution_count": 36,
   "metadata": {},
   "outputs": [],
   "source": [
    "from sklearn.linear_model import LogisticRegression\n",
    "\n",
    "clf = LogisticRegression(random_state=0, solver='lbfgs', multi_class='multinomial').fit(train_x, train_y)"
   ]
  },
  {
   "cell_type": "code",
   "execution_count": 53,
   "metadata": {},
   "outputs": [],
   "source": [
    "from sklearn.ensemble import RandomForestClassifier\n",
    "\n",
    "clf_rf = RandomForestClassifier(100).fit(train_x, train_y)"
   ]
  },
  {
   "cell_type": "code",
   "execution_count": 58,
   "metadata": {},
   "outputs": [],
   "source": [
    "from sklearn.svm import LinearSVC\n",
    "\n",
    "clf_svm = LinearSVC(random_state=0, tol=1e-5)\n",
    "clf_svm = clf_svm.fit(train_x, train_y)\n"
   ]
  },
  {
   "cell_type": "code",
   "execution_count": 60,
   "metadata": {},
   "outputs": [],
   "source": [
    "from sklearn.naive_bayes import MultinomialNB\n",
    "\n",
    "clf_mnnb = MultinomialNB().fit(train_x, train_y)"
   ]
  },
  {
   "cell_type": "markdown",
   "metadata": {},
   "source": [
    "# Manually Testing - Qualitative Assessment"
   ]
  },
  {
   "cell_type": "code",
   "execution_count": 37,
   "metadata": {},
   "outputs": [
    {
     "data": {
      "text/plain": [
       "array(['APP'], dtype=object)"
      ]
     },
     "execution_count": 37,
     "metadata": {},
     "output_type": "execute_result"
    }
   ],
   "source": [
    "clf.predict([count_vect.transform(['sägi 7 viertelab morn wie wenn uf di halbi 5']).todense().A1])"
   ]
  },
  {
   "cell_type": "code",
   "execution_count": 61,
   "metadata": {},
   "outputs": [
    {
     "data": {
      "text/plain": [
       "0.6"
      ]
     },
     "execution_count": 61,
     "metadata": {},
     "output_type": "execute_result"
    }
   ],
   "source": [
    "clf_mnnb.score(test_x, test_y)"
   ]
  },
  {
   "cell_type": "code",
   "execution_count": 59,
   "metadata": {},
   "outputs": [
    {
     "data": {
      "text/plain": [
       "0.4"
      ]
     },
     "execution_count": 59,
     "metadata": {},
     "output_type": "execute_result"
    }
   ],
   "source": [
    "clf_svm.score(test_x, test_y)"
   ]
  },
  {
   "cell_type": "code",
   "execution_count": 54,
   "metadata": {},
   "outputs": [
    {
     "data": {
      "text/plain": [
       "0.5"
      ]
     },
     "execution_count": 54,
     "metadata": {},
     "output_type": "execute_result"
    }
   ],
   "source": [
    "clf.score(test_x, test_y)"
   ]
  },
  {
   "cell_type": "code",
   "execution_count": 52,
   "metadata": {},
   "outputs": [
    {
     "data": {
      "text/plain": [
       "0.3"
      ]
     },
     "execution_count": 52,
     "metadata": {},
     "output_type": "execute_result"
    }
   ],
   "source": [
    "clf_rf.score(test_x, test_y)"
   ]
  },
  {
   "cell_type": "code",
   "execution_count": 15,
   "metadata": {},
   "outputs": [],
   "source": [
    "clf?"
   ]
  },
  {
   "cell_type": "code",
   "execution_count": 49,
   "metadata": {},
   "outputs": [
    {
     "data": {
      "text/plain": [
       "array([[0.51182204, 0.40406037, 0.08411759]])"
      ]
     },
     "execution_count": 49,
     "metadata": {},
     "output_type": "execute_result"
    }
   ],
   "source": [
    "clf.predict_proba([count_vect.transform(['  viertelab  wenn wie halbi 5']).todense().A1])"
   ]
  },
  {
   "cell_type": "code",
   "execution_count": 20,
   "metadata": {},
   "outputs": [
    {
     "data": {
      "text/plain": [
       "array(['APP', 'NC', 'NEWS'], dtype=object)"
      ]
     },
     "execution_count": 20,
     "metadata": {},
     "output_type": "execute_result"
    }
   ],
   "source": [
    "clf.classes_"
   ]
  },
  {
   "cell_type": "code",
   "execution_count": null,
   "metadata": {},
   "outputs": [],
   "source": []
  }
 ],
 "metadata": {
  "kernelspec": {
   "display_name": "Python 3",
   "language": "python",
   "name": "python3"
  },
  "language_info": {
   "codemirror_mode": {
    "name": "ipython",
    "version": 3
   },
   "file_extension": ".py",
   "mimetype": "text/x-python",
   "name": "python",
   "nbconvert_exporter": "python",
   "pygments_lexer": "ipython3",
   "version": "3.7.3"
  }
 },
 "nbformat": 4,
 "nbformat_minor": 2
}
