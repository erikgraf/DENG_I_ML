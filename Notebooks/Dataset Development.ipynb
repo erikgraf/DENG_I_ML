{
 "cells": [
  {
   "cell_type": "markdown",
   "metadata": {},
   "source": [
    "# Dataset Development\n",
    "\n",
    "The following notebook is focused on developing our first own custom dataset.\n",
    "\n",
    "Developing your own dataset is often the first task that has to be executed when we try to apply machine learning.\n",
    "\n",
    "\n"
   ]
  },
  {
   "cell_type": "markdown",
   "metadata": {},
   "source": [
    "## Classifying Swiss Text\n",
    "\n",
    "We will classify a subset of the Swiss SMS corpus.\n",
    "\n",
    "http://www.sms4science.ch/\n",
    "\n",
    "The subset was created by applying the bash commmand.\n",
    "\n",
    "    `shuf -n 1000` \n",
    "    \n",
    "on the original dataset.\n",
    "\n",
    "Bash commands are often a very efficient way to do some quick data wrangling. "
   ]
  },
  {
   "cell_type": "markdown",
   "metadata": {},
   "source": [
    "## Group Exercise 1\n",
    "\n",
    "Annotating the SMS samples.\n",
    "As a first exercise please form 5-6 groups of 2-3 students.\n",
    "\n",
    "The following Google Sheet contains two tabs:\n",
    "\n",
    "https://docs.google.com/spreadsheets/d/1_36VcF-ZQHdFWgsp3zTkoZ5oYPtSrwa0YIOer4KW8g4/edit?usp=sharing\n",
    "\n",
    "* Annotation Sheet: Which is meant as a collaborative editing basis for annotating the SMS\n",
    "* Class_Labels: A sheet which contains the labels and their descriptions\n",
    "\n",
    "This is a somewhat minimal, but typical setup for such annotation tasks and will help us to detect common pitfalls and good practices for this task.\n"
   ]
  },
  {
   "cell_type": "code",
   "execution_count": null,
   "metadata": {},
   "outputs": [],
   "source": []
  }
 ],
 "metadata": {
  "kernelspec": {
   "display_name": "Python 3",
   "language": "python",
   "name": "python3"
  },
  "language_info": {
   "codemirror_mode": {
    "name": "ipython",
    "version": 3
   },
   "file_extension": ".py",
   "mimetype": "text/x-python",
   "name": "python",
   "nbconvert_exporter": "python",
   "pygments_lexer": "ipython3",
   "version": "3.6.8"
  }
 },
 "nbformat": 4,
 "nbformat_minor": 2
}
